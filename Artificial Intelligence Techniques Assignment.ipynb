{
 "cells": [
  {
   "cell_type": "markdown",
   "metadata": {
    "toc": true
   },
   "source": [
    "<h1>Table of Contents<span class=\"tocSkip\"></span></h1>\n",
    "<div class=\"toc\"><ul class=\"toc-item\"><li><span><a href=\"#Importing-all-necessary-libraries\" data-toc-modified-id=\"Importing-all-necessary-libraries-1\"><span class=\"toc-item-num\">1&nbsp;&nbsp;</span>Importing all necessary libraries</a></span></li><li><span><a href=\"#Loading-the-dataset-using-pandas\" data-toc-modified-id=\"Loading-the-dataset-using-pandas-2\"><span class=\"toc-item-num\">2&nbsp;&nbsp;</span>Loading the dataset using pandas</a></span></li><li><span><a href=\"#Exploring-and-analysing-the-dataset\" data-toc-modified-id=\"Exploring-and-analysing-the-dataset-3\"><span class=\"toc-item-num\">3&nbsp;&nbsp;</span>Exploring and analysing the dataset</a></span><ul class=\"toc-item\"><li><span><a href=\"#Firstly,-let-us-roughly-analyse-the-dataset\" data-toc-modified-id=\"Firstly,-let-us-roughly-analyse-the-dataset-3.1\"><span class=\"toc-item-num\">3.1&nbsp;&nbsp;</span>Firstly, let us roughly analyse the dataset</a></span></li><li><span><a href=\"#Statistics-of-numerical-attributes\" data-toc-modified-id=\"Statistics-of-numerical-attributes-3.2\"><span class=\"toc-item-num\">3.2&nbsp;&nbsp;</span>Statistics of numerical attributes</a></span></li><li><span><a href=\"#View-the-histogram-for-each-numerical-attribute\" data-toc-modified-id=\"View-the-histogram-for-each-numerical-attribute-3.3\"><span class=\"toc-item-num\">3.3&nbsp;&nbsp;</span>View the histogram for each numerical attribute</a></span></li><li><span><a href=\"#Analysing-categorical-data\" data-toc-modified-id=\"Analysing-categorical-data-3.4\"><span class=\"toc-item-num\">3.4&nbsp;&nbsp;</span>Analysing categorical data</a></span></li><li><span><a href=\"#Computing-the-correlation-matrix-between-all-features\" data-toc-modified-id=\"Computing-the-correlation-matrix-between-all-features-3.5\"><span class=\"toc-item-num\">3.5&nbsp;&nbsp;</span>Computing the correlation matrix between all features</a></span></li><li><span><a href=\"#Viewing-the-heatmap-of-the-correlation\" data-toc-modified-id=\"Viewing-the-heatmap-of-the-correlation-3.6\"><span class=\"toc-item-num\">3.6&nbsp;&nbsp;</span>Viewing the heatmap of the correlation</a></span></li><li><span><a href=\"#Displaying-the-correlation-of-the-input-features-witht-the-targeted-variable-(income)\" data-toc-modified-id=\"Displaying-the-correlation-of-the-input-features-witht-the-targeted-variable-(income)-3.7\"><span class=\"toc-item-num\">3.7&nbsp;&nbsp;</span>Displaying the correlation of the input features witht the targeted variable (income)</a></span></li><li><span><a href=\"#Displaying-the-scatter-matrix-for-numerical-data\" data-toc-modified-id=\"Displaying-the-scatter-matrix-for-numerical-data-3.8\"><span class=\"toc-item-num\">3.8&nbsp;&nbsp;</span>Displaying the scatter matrix for numerical data</a></span></li></ul></li><li><span><a href=\"#Data-Prepocessing\" data-toc-modified-id=\"Data-Prepocessing-4\"><span class=\"toc-item-num\">4&nbsp;&nbsp;</span>Data Prepocessing</a></span><ul class=\"toc-item\"><li><span><a href=\"#Splitting-into-training-and-testing-set\" data-toc-modified-id=\"Splitting-into-training-and-testing-set-4.1\"><span class=\"toc-item-num\">4.1&nbsp;&nbsp;</span>Splitting into training and testing set</a></span></li><li><span><a href=\"#Tackling-the-missing-values\" data-toc-modified-id=\"Tackling-the-missing-values-4.2\"><span class=\"toc-item-num\">4.2&nbsp;&nbsp;</span>Tackling the missing values</a></span></li><li><span><a href=\"#Normalization\" data-toc-modified-id=\"Normalization-4.3\"><span class=\"toc-item-num\">4.3&nbsp;&nbsp;</span>Normalization</a></span></li><li><span><a href=\"#Performing-One-hot-encoding\" data-toc-modified-id=\"Performing-One-hot-encoding-4.4\"><span class=\"toc-item-num\">4.4&nbsp;&nbsp;</span>Performing One-hot encoding</a></span></li><li><span><a href=\"#Changing-y_train-into-a-boolean-vector\" data-toc-modified-id=\"Changing-y_train-into-a-boolean-vector-4.5\"><span class=\"toc-item-num\">4.5&nbsp;&nbsp;</span>Changing y_train into a boolean vector</a></span></li></ul></li><li><span><a href=\"#Performing-Classification\" data-toc-modified-id=\"Performing-Classification-5\"><span class=\"toc-item-num\">5&nbsp;&nbsp;</span>Performing Classification</a></span><ul class=\"toc-item\"><li><span><a href=\"#Model-Selection\" data-toc-modified-id=\"Model-Selection-5.1\"><span class=\"toc-item-num\">5.1&nbsp;&nbsp;</span>Model Selection</a></span></li><li><span><a href=\"#Decision-Tree\" data-toc-modified-id=\"Decision-Tree-5.2\"><span class=\"toc-item-num\">5.2&nbsp;&nbsp;</span>Decision Tree</a></span></li></ul></li></ul></div>"
   ]
  },
  {
   "cell_type": "markdown",
   "metadata": {},
   "source": [
    "# Importing all necessary libraries"
   ]
  },
  {
   "cell_type": "code",
   "execution_count": 25,
   "metadata": {},
   "outputs": [],
   "source": [
    "import numpy as np\n",
    "import pandas as pd\n",
    "import matplotlib.pyplot as plt\n",
    "import seaborn as sns\n",
    "from sklearn.preprocessing import StandardScaler\n",
    "from sklearn.preprocessing import LabelBinarizer\n",
    "from sklearn.model_selection import train_test_split\n",
    "from scipy.stats import pointbiserialr, spearmanr\n",
    "from sklearn.feature_selection import SelectKBest\n",
    "from sklearn.model_selection import cross_val_score\n",
    "from sklearn.tree import DecisionTreeClassifier\n",
    "from sklearn.ensemble import RandomForestClassifier\n",
    "from pandas.plotting import scatter_matrix\n",
    "from sklearn.metrics import accuracy_score"
   ]
  },
  {
   "cell_type": "markdown",
   "metadata": {},
   "source": [
    "# Loading the dataset using pandas"
   ]
  },
  {
   "cell_type": "code",
   "execution_count": 2,
   "metadata": {},
   "outputs": [
    {
     "data": {
      "text/html": [
       "<div>\n",
       "<style scoped>\n",
       "    .dataframe tbody tr th:only-of-type {\n",
       "        vertical-align: middle;\n",
       "    }\n",
       "\n",
       "    .dataframe tbody tr th {\n",
       "        vertical-align: top;\n",
       "    }\n",
       "\n",
       "    .dataframe thead th {\n",
       "        text-align: right;\n",
       "    }\n",
       "</style>\n",
       "<table border=\"1\" class=\"dataframe\">\n",
       "  <thead>\n",
       "    <tr style=\"text-align: right;\">\n",
       "      <th></th>\n",
       "      <th>age</th>\n",
       "      <th>workclass</th>\n",
       "      <th>fnlwgt</th>\n",
       "      <th>education</th>\n",
       "      <th>education-num</th>\n",
       "      <th>marital-status</th>\n",
       "      <th>occupation</th>\n",
       "      <th>relationship</th>\n",
       "      <th>race</th>\n",
       "      <th>sex</th>\n",
       "      <th>capital-gain</th>\n",
       "      <th>capital-loss</th>\n",
       "      <th>hours-per-week</th>\n",
       "      <th>native-country</th>\n",
       "      <th>income</th>\n",
       "    </tr>\n",
       "  </thead>\n",
       "  <tbody>\n",
       "    <tr>\n",
       "      <th>0</th>\n",
       "      <td>39</td>\n",
       "      <td>State-gov</td>\n",
       "      <td>77516</td>\n",
       "      <td>Bachelors</td>\n",
       "      <td>13</td>\n",
       "      <td>Never-married</td>\n",
       "      <td>Adm-clerical</td>\n",
       "      <td>Not-in-family</td>\n",
       "      <td>White</td>\n",
       "      <td>Male</td>\n",
       "      <td>2174</td>\n",
       "      <td>0</td>\n",
       "      <td>40</td>\n",
       "      <td>United-States</td>\n",
       "      <td>&lt;=50K</td>\n",
       "    </tr>\n",
       "    <tr>\n",
       "      <th>1</th>\n",
       "      <td>50</td>\n",
       "      <td>Self-emp-not-inc</td>\n",
       "      <td>83311</td>\n",
       "      <td>Bachelors</td>\n",
       "      <td>13</td>\n",
       "      <td>Married-civ-spouse</td>\n",
       "      <td>Exec-managerial</td>\n",
       "      <td>Husband</td>\n",
       "      <td>White</td>\n",
       "      <td>Male</td>\n",
       "      <td>0</td>\n",
       "      <td>0</td>\n",
       "      <td>13</td>\n",
       "      <td>United-States</td>\n",
       "      <td>&lt;=50K</td>\n",
       "    </tr>\n",
       "    <tr>\n",
       "      <th>2</th>\n",
       "      <td>38</td>\n",
       "      <td>Private</td>\n",
       "      <td>215646</td>\n",
       "      <td>HS-grad</td>\n",
       "      <td>9</td>\n",
       "      <td>Divorced</td>\n",
       "      <td>Handlers-cleaners</td>\n",
       "      <td>Not-in-family</td>\n",
       "      <td>White</td>\n",
       "      <td>Male</td>\n",
       "      <td>0</td>\n",
       "      <td>0</td>\n",
       "      <td>40</td>\n",
       "      <td>United-States</td>\n",
       "      <td>&lt;=50K</td>\n",
       "    </tr>\n",
       "    <tr>\n",
       "      <th>3</th>\n",
       "      <td>53</td>\n",
       "      <td>Private</td>\n",
       "      <td>234721</td>\n",
       "      <td>11th</td>\n",
       "      <td>7</td>\n",
       "      <td>Married-civ-spouse</td>\n",
       "      <td>Handlers-cleaners</td>\n",
       "      <td>Husband</td>\n",
       "      <td>Black</td>\n",
       "      <td>Male</td>\n",
       "      <td>0</td>\n",
       "      <td>0</td>\n",
       "      <td>40</td>\n",
       "      <td>United-States</td>\n",
       "      <td>&lt;=50K</td>\n",
       "    </tr>\n",
       "    <tr>\n",
       "      <th>4</th>\n",
       "      <td>28</td>\n",
       "      <td>Private</td>\n",
       "      <td>338409</td>\n",
       "      <td>Bachelors</td>\n",
       "      <td>13</td>\n",
       "      <td>Married-civ-spouse</td>\n",
       "      <td>Prof-specialty</td>\n",
       "      <td>Wife</td>\n",
       "      <td>Black</td>\n",
       "      <td>Female</td>\n",
       "      <td>0</td>\n",
       "      <td>0</td>\n",
       "      <td>40</td>\n",
       "      <td>Cuba</td>\n",
       "      <td>&lt;=50K</td>\n",
       "    </tr>\n",
       "  </tbody>\n",
       "</table>\n",
       "</div>"
      ],
      "text/plain": [
       "   age         workclass  fnlwgt  education  education-num  \\\n",
       "0   39         State-gov   77516  Bachelors             13   \n",
       "1   50  Self-emp-not-inc   83311  Bachelors             13   \n",
       "2   38           Private  215646    HS-grad              9   \n",
       "3   53           Private  234721       11th              7   \n",
       "4   28           Private  338409  Bachelors             13   \n",
       "\n",
       "       marital-status         occupation   relationship   race     sex  \\\n",
       "0       Never-married       Adm-clerical  Not-in-family  White    Male   \n",
       "1  Married-civ-spouse    Exec-managerial        Husband  White    Male   \n",
       "2            Divorced  Handlers-cleaners  Not-in-family  White    Male   \n",
       "3  Married-civ-spouse  Handlers-cleaners        Husband  Black    Male   \n",
       "4  Married-civ-spouse     Prof-specialty           Wife  Black  Female   \n",
       "\n",
       "   capital-gain  capital-loss  hours-per-week native-country income  \n",
       "0          2174             0              40  United-States  <=50K  \n",
       "1             0             0              13  United-States  <=50K  \n",
       "2             0             0              40  United-States  <=50K  \n",
       "3             0             0              40  United-States  <=50K  \n",
       "4             0             0              40           Cuba  <=50K  "
      ]
     },
     "execution_count": 2,
     "metadata": {},
     "output_type": "execute_result"
    }
   ],
   "source": [
    "# Setting the columns for the dataset\n",
    "cols = ['age', 'workclass', 'fnlwgt', \n",
    "        'education', 'education-num', \n",
    "        'marital-status', 'occupation', \n",
    "        'relationship', 'race', 'sex', \n",
    "        'capital-gain', 'capital-loss', \n",
    "        'hours-per-week', 'native-country', \n",
    "        'income']\n",
    "\n",
    "# Reading the dataset and storing into adult, we need to use na_values as some data have '?' as null values\n",
    "adults1 = pd.read_csv('./Adults/adult.data', names = cols, index_col = False, na_values = [' ?'])\n",
    "adults2 = pd.read_csv('./Adults/adult.test', names = cols, index_col = False, na_values = [' ?'])\n",
    "adults = adults1.append(adults2)\n",
    "\n",
    "# There are whitespaces in the csv file, use this function to remove it\n",
    "adults_obj = adults.select_dtypes(['object'])\n",
    "adults[adults_obj.columns] = adults_obj.apply(lambda x: x.str.strip())\n",
    "\n",
    "# We convert the target variable to True (<=50K) and False (>50K) for easier handling\n",
    "# adults.income = adults.income.map({'<=50K':0,'>50K':1})\n",
    "\n",
    "# Peeking the first 5 rows of the dataset\n",
    "adults.head()"
   ]
  },
  {
   "cell_type": "markdown",
   "metadata": {},
   "source": [
    "# Exploring and analysing the dataset"
   ]
  },
  {
   "cell_type": "markdown",
   "metadata": {},
   "source": [
    "## Firstly, let us roughly analyse the dataset"
   ]
  },
  {
   "cell_type": "code",
   "execution_count": 3,
   "metadata": {
    "tags": []
   },
   "outputs": [
    {
     "name": "stdout",
     "output_type": "stream",
     "text": [
      "<class 'pandas.core.frame.DataFrame'>\n",
      "Int64Index: 48842 entries, 0 to 16280\n",
      "Data columns (total 15 columns):\n",
      " #   Column          Non-Null Count  Dtype \n",
      "---  ------          --------------  ----- \n",
      " 0   age             48842 non-null  int64 \n",
      " 1   workclass       46043 non-null  object\n",
      " 2   fnlwgt          48842 non-null  int64 \n",
      " 3   education       48842 non-null  object\n",
      " 4   education-num   48842 non-null  int64 \n",
      " 5   marital-status  48842 non-null  object\n",
      " 6   occupation      46033 non-null  object\n",
      " 7   relationship    48842 non-null  object\n",
      " 8   race            48842 non-null  object\n",
      " 9   sex             48842 non-null  object\n",
      " 10  capital-gain    48842 non-null  int64 \n",
      " 11  capital-loss    48842 non-null  int64 \n",
      " 12  hours-per-week  48842 non-null  int64 \n",
      " 13  native-country  47985 non-null  object\n",
      " 14  income          48842 non-null  object\n",
      "dtypes: int64(6), object(9)\n",
      "memory usage: 6.0+ MB\n"
     ]
    }
   ],
   "source": [
    "adults.info()"
   ]
  },
  {
   "cell_type": "markdown",
   "metadata": {},
   "source": [
    "From the .info() method, we can see there are a total of **15 attributes** and **1 output label** which is **income**.\n",
    "\n",
    "Observations:\n",
    "\n",
    "1. Out of the **15 attributes**, 6 of it are numerical data, whereas the remaining 8 are categorical data.\n",
    "2. There are a total of **48842 instances**\n",
    "3. A total of 3 attributes contain missing values\n",
    "\n",
    "Now let's analyse the output label:"
   ]
  },
  {
   "cell_type": "code",
   "execution_count": 4,
   "metadata": {},
   "outputs": [
    {
     "data": {
      "text/plain": [
       "<=50K    37155\n",
       ">50K     11687\n",
       "Name: income, dtype: int64"
      ]
     },
     "execution_count": 4,
     "metadata": {},
     "output_type": "execute_result"
    }
   ],
   "source": [
    "adults.income.value_counts()"
   ]
  },
  {
   "cell_type": "markdown",
   "metadata": {},
   "source": [
    "Observations:\n",
    "1. There are 2 distinct outputs, this is a **binary classification task**\n",
    "2. The no. of people making more than \\$50,000 are 7841\n",
    "3. The no. of people making at most \\$50,000 are 24720\n",
    "4. The percentage of people making more than \\$50,000 is approximately 24.08\\%"
   ]
  },
  {
   "cell_type": "markdown",
   "metadata": {},
   "source": [
    "There are some missing values detected, let's view those"
   ]
  },
  {
   "cell_type": "code",
   "execution_count": 5,
   "metadata": {},
   "outputs": [
    {
     "data": {
      "text/plain": [
       "age                  0\n",
       "workclass         2799\n",
       "fnlwgt               0\n",
       "education            0\n",
       "education-num        0\n",
       "marital-status       0\n",
       "occupation        2809\n",
       "relationship         0\n",
       "race                 0\n",
       "sex                  0\n",
       "capital-gain         0\n",
       "capital-loss         0\n",
       "hours-per-week       0\n",
       "native-country     857\n",
       "income               0\n",
       "dtype: int64"
      ]
     },
     "execution_count": 5,
     "metadata": {},
     "output_type": "execute_result"
    }
   ],
   "source": [
    "adults.isnull().sum()"
   ]
  },
  {
   "cell_type": "markdown",
   "metadata": {},
   "source": [
    "We may need to **impute** or even **drop** the missing values for workclass, occupation, and native-country"
   ]
  },
  {
   "cell_type": "markdown",
   "metadata": {},
   "source": [
    "## Statistics of numerical attributes"
   ]
  },
  {
   "cell_type": "code",
   "execution_count": 6,
   "metadata": {},
   "outputs": [
    {
     "data": {
      "text/html": [
       "<div>\n",
       "<style scoped>\n",
       "    .dataframe tbody tr th:only-of-type {\n",
       "        vertical-align: middle;\n",
       "    }\n",
       "\n",
       "    .dataframe tbody tr th {\n",
       "        vertical-align: top;\n",
       "    }\n",
       "\n",
       "    .dataframe thead th {\n",
       "        text-align: right;\n",
       "    }\n",
       "</style>\n",
       "<table border=\"1\" class=\"dataframe\">\n",
       "  <thead>\n",
       "    <tr style=\"text-align: right;\">\n",
       "      <th></th>\n",
       "      <th>age</th>\n",
       "      <th>fnlwgt</th>\n",
       "      <th>education-num</th>\n",
       "      <th>capital-gain</th>\n",
       "      <th>capital-loss</th>\n",
       "      <th>hours-per-week</th>\n",
       "    </tr>\n",
       "  </thead>\n",
       "  <tbody>\n",
       "    <tr>\n",
       "      <th>count</th>\n",
       "      <td>48842.000000</td>\n",
       "      <td>4.884200e+04</td>\n",
       "      <td>48842.000000</td>\n",
       "      <td>48842.000000</td>\n",
       "      <td>48842.000000</td>\n",
       "      <td>48842.000000</td>\n",
       "    </tr>\n",
       "    <tr>\n",
       "      <th>mean</th>\n",
       "      <td>38.643585</td>\n",
       "      <td>1.896641e+05</td>\n",
       "      <td>10.078089</td>\n",
       "      <td>1079.067626</td>\n",
       "      <td>87.502314</td>\n",
       "      <td>40.422382</td>\n",
       "    </tr>\n",
       "    <tr>\n",
       "      <th>std</th>\n",
       "      <td>13.710510</td>\n",
       "      <td>1.056040e+05</td>\n",
       "      <td>2.570973</td>\n",
       "      <td>7452.019058</td>\n",
       "      <td>403.004552</td>\n",
       "      <td>12.391444</td>\n",
       "    </tr>\n",
       "    <tr>\n",
       "      <th>min</th>\n",
       "      <td>17.000000</td>\n",
       "      <td>1.228500e+04</td>\n",
       "      <td>1.000000</td>\n",
       "      <td>0.000000</td>\n",
       "      <td>0.000000</td>\n",
       "      <td>1.000000</td>\n",
       "    </tr>\n",
       "    <tr>\n",
       "      <th>25%</th>\n",
       "      <td>28.000000</td>\n",
       "      <td>1.175505e+05</td>\n",
       "      <td>9.000000</td>\n",
       "      <td>0.000000</td>\n",
       "      <td>0.000000</td>\n",
       "      <td>40.000000</td>\n",
       "    </tr>\n",
       "    <tr>\n",
       "      <th>50%</th>\n",
       "      <td>37.000000</td>\n",
       "      <td>1.781445e+05</td>\n",
       "      <td>10.000000</td>\n",
       "      <td>0.000000</td>\n",
       "      <td>0.000000</td>\n",
       "      <td>40.000000</td>\n",
       "    </tr>\n",
       "    <tr>\n",
       "      <th>75%</th>\n",
       "      <td>48.000000</td>\n",
       "      <td>2.376420e+05</td>\n",
       "      <td>12.000000</td>\n",
       "      <td>0.000000</td>\n",
       "      <td>0.000000</td>\n",
       "      <td>45.000000</td>\n",
       "    </tr>\n",
       "    <tr>\n",
       "      <th>max</th>\n",
       "      <td>90.000000</td>\n",
       "      <td>1.490400e+06</td>\n",
       "      <td>16.000000</td>\n",
       "      <td>99999.000000</td>\n",
       "      <td>4356.000000</td>\n",
       "      <td>99.000000</td>\n",
       "    </tr>\n",
       "  </tbody>\n",
       "</table>\n",
       "</div>"
      ],
      "text/plain": [
       "                age        fnlwgt  education-num  capital-gain  capital-loss  \\\n",
       "count  48842.000000  4.884200e+04   48842.000000  48842.000000  48842.000000   \n",
       "mean      38.643585  1.896641e+05      10.078089   1079.067626     87.502314   \n",
       "std       13.710510  1.056040e+05       2.570973   7452.019058    403.004552   \n",
       "min       17.000000  1.228500e+04       1.000000      0.000000      0.000000   \n",
       "25%       28.000000  1.175505e+05       9.000000      0.000000      0.000000   \n",
       "50%       37.000000  1.781445e+05      10.000000      0.000000      0.000000   \n",
       "75%       48.000000  2.376420e+05      12.000000      0.000000      0.000000   \n",
       "max       90.000000  1.490400e+06      16.000000  99999.000000   4356.000000   \n",
       "\n",
       "       hours-per-week  \n",
       "count    48842.000000  \n",
       "mean        40.422382  \n",
       "std         12.391444  \n",
       "min          1.000000  \n",
       "25%         40.000000  \n",
       "50%         40.000000  \n",
       "75%         45.000000  \n",
       "max         99.000000  "
      ]
     },
     "execution_count": 6,
     "metadata": {},
     "output_type": "execute_result"
    }
   ],
   "source": [
    "# View the statistics of the numerical data\n",
    "adults.describe()"
   ]
  },
  {
   "cell_type": "markdown",
   "metadata": {},
   "source": [
    "Each numerical attribute have very different scale, **feature scaling** is needed"
   ]
  },
  {
   "cell_type": "markdown",
   "metadata": {},
   "source": [
    "## View the histogram for each numerical attribute"
   ]
  },
  {
   "cell_type": "code",
   "execution_count": 7,
   "metadata": {},
   "outputs": [
    {
     "data": {
      "image/png": "[encoded data removed]",
      "text/plain": [
       "<Figure size 1440x1080 with 6 Axes>"
      ]
     },
     "metadata": {
      "needs_background": "light"
     },
     "output_type": "display_data"
    }
   ],
   "source": [
    "adults.hist(bins = 50, figsize = (20,15), column = ['age','fnlwgt','education-num','capital-gain','capital-loss',\n",
    "                                                    'hours-per-week'])\n",
    "plt.show()"
   ]
  },
  {
   "cell_type": "markdown",
   "metadata": {},
   "source": [
    "Observations:\n",
    "1. capital-gain and capital-loss are **tail heavy** and the **values have been capped**"
   ]
  },
  {
   "cell_type": "markdown",
   "metadata": {},
   "source": [
    "## Analysing categorical data"
   ]
  },
  {
   "cell_type": "code",
   "execution_count": 8,
   "metadata": {
    "scrolled": true
   },
   "outputs": [
    {
     "name": "stdout",
     "output_type": "stream",
     "text": [
      "Private             33906\n",
      "Self-emp-not-inc     3862\n",
      "Local-gov            3136\n",
      "State-gov            1981\n",
      "Self-emp-inc         1695\n",
      "Federal-gov          1432\n",
      "Without-pay            21\n",
      "Never-worked           10\n",
      "Name: workclass, dtype: int64 \n",
      "\n",
      "HS-grad         15784\n",
      "Some-college    10878\n",
      "Bachelors        8025\n",
      "Masters          2657\n",
      "Assoc-voc        2061\n",
      "11th             1812\n",
      "Assoc-acdm       1601\n",
      "10th             1389\n",
      "7th-8th           955\n",
      "Prof-school       834\n",
      "9th               756\n",
      "12th              657\n",
      "Doctorate         594\n",
      "5th-6th           509\n",
      "1st-4th           247\n",
      "Preschool          83\n",
      "Name: education, dtype: int64 \n",
      "\n",
      "Married-civ-spouse       22379\n",
      "Never-married            16117\n",
      "Divorced                  6633\n",
      "Separated                 1530\n",
      "Widowed                   1518\n",
      "Married-spouse-absent      628\n",
      "Married-AF-spouse           37\n",
      "Name: marital-status, dtype: int64 \n",
      "\n",
      "Prof-specialty       6172\n",
      "Craft-repair         6112\n",
      "Exec-managerial      6086\n",
      "Adm-clerical         5611\n",
      "Sales                5504\n",
      "Other-service        4923\n",
      "Machine-op-inspct    3022\n",
      "Transport-moving     2355\n",
      "Handlers-cleaners    2072\n",
      "Farming-fishing      1490\n",
      "Tech-support         1446\n",
      "Protective-serv       983\n",
      "Priv-house-serv       242\n",
      "Armed-Forces           15\n",
      "Name: occupation, dtype: int64 \n",
      "\n",
      "Husband           19716\n",
      "Not-in-family     12583\n",
      "Own-child          7581\n",
      "Unmarried          5125\n",
      "Wife               2331\n",
      "Other-relative     1506\n",
      "Name: relationship, dtype: int64 \n",
      "\n",
      "White                 41762\n",
      "Black                  4685\n",
      "Asian-Pac-Islander     1519\n",
      "Amer-Indian-Eskimo      470\n",
      "Other                   406\n",
      "Name: race, dtype: int64 \n",
      "\n",
      "Male      32650\n",
      "Female    16192\n",
      "Name: sex, dtype: int64 \n",
      "\n",
      "United-States                 43832\n",
      "Mexico                          951\n",
      "Philippines                     295\n",
      "Germany                         206\n",
      "Puerto-Rico                     184\n",
      "Canada                          182\n",
      "El-Salvador                     155\n",
      "India                           151\n",
      "Cuba                            138\n",
      "England                         127\n",
      "China                           122\n",
      "South                           115\n",
      "Jamaica                         106\n",
      "Italy                           105\n",
      "Dominican-Republic              103\n",
      "Japan                            92\n",
      "Guatemala                        88\n",
      "Poland                           87\n",
      "Vietnam                          86\n",
      "Columbia                         85\n",
      "Haiti                            75\n",
      "Portugal                         67\n",
      "Taiwan                           65\n",
      "Iran                             59\n",
      "Nicaragua                        49\n",
      "Greece                           49\n",
      "Peru                             46\n",
      "Ecuador                          45\n",
      "France                           38\n",
      "Ireland                          37\n",
      "Hong                             30\n",
      "Thailand                         30\n",
      "Cambodia                         28\n",
      "Trinadad&Tobago                  27\n",
      "Outlying-US(Guam-USVI-etc)       23\n",
      "Laos                             23\n",
      "Yugoslavia                       23\n",
      "Scotland                         21\n",
      "Honduras                         20\n",
      "Hungary                          19\n",
      "Holand-Netherlands                1\n",
      "Name: native-country, dtype: int64 \n",
      "\n"
     ]
    }
   ],
   "source": [
    "cat_cols = ['workclass','education','marital-status','occupation','relationship','race','sex',\n",
    "           'native-country']\n",
    "\n",
    "for cols in cat_cols:\n",
    "    print(adults[cols].value_counts(),'\\n')"
   ]
  },
  {
   "cell_type": "markdown",
   "metadata": {},
   "source": [
    "We need to perform **one-hot encoding** on the above the columns"
   ]
  },
  {
   "cell_type": "markdown",
   "metadata": {},
   "source": [
    "## Computing the correlation matrix between all features"
   ]
  },
  {
   "cell_type": "code",
   "execution_count": 9,
   "metadata": {},
   "outputs": [
    {
     "data": {
      "text/html": [
       "<div>\n",
       "<style scoped>\n",
       "    .dataframe tbody tr th:only-of-type {\n",
       "        vertical-align: middle;\n",
       "    }\n",
       "\n",
       "    .dataframe tbody tr th {\n",
       "        vertical-align: top;\n",
       "    }\n",
       "\n",
       "    .dataframe thead th {\n",
       "        text-align: right;\n",
       "    }\n",
       "</style>\n",
       "<table border=\"1\" class=\"dataframe\">\n",
       "  <thead>\n",
       "    <tr style=\"text-align: right;\">\n",
       "      <th></th>\n",
       "      <th>age</th>\n",
       "      <th>fnlwgt</th>\n",
       "      <th>education-num</th>\n",
       "      <th>capital-gain</th>\n",
       "      <th>capital-loss</th>\n",
       "      <th>hours-per-week</th>\n",
       "    </tr>\n",
       "  </thead>\n",
       "  <tbody>\n",
       "    <tr>\n",
       "      <th>age</th>\n",
       "      <td>1.000000</td>\n",
       "      <td>-0.076628</td>\n",
       "      <td>0.030940</td>\n",
       "      <td>0.077229</td>\n",
       "      <td>0.056944</td>\n",
       "      <td>0.071558</td>\n",
       "    </tr>\n",
       "    <tr>\n",
       "      <th>fnlwgt</th>\n",
       "      <td>-0.076628</td>\n",
       "      <td>1.000000</td>\n",
       "      <td>-0.038761</td>\n",
       "      <td>-0.003706</td>\n",
       "      <td>-0.004366</td>\n",
       "      <td>-0.013519</td>\n",
       "    </tr>\n",
       "    <tr>\n",
       "      <th>education-num</th>\n",
       "      <td>0.030940</td>\n",
       "      <td>-0.038761</td>\n",
       "      <td>1.000000</td>\n",
       "      <td>0.125146</td>\n",
       "      <td>0.080972</td>\n",
       "      <td>0.143689</td>\n",
       "    </tr>\n",
       "    <tr>\n",
       "      <th>capital-gain</th>\n",
       "      <td>0.077229</td>\n",
       "      <td>-0.003706</td>\n",
       "      <td>0.125146</td>\n",
       "      <td>1.000000</td>\n",
       "      <td>-0.031441</td>\n",
       "      <td>0.082157</td>\n",
       "    </tr>\n",
       "    <tr>\n",
       "      <th>capital-loss</th>\n",
       "      <td>0.056944</td>\n",
       "      <td>-0.004366</td>\n",
       "      <td>0.080972</td>\n",
       "      <td>-0.031441</td>\n",
       "      <td>1.000000</td>\n",
       "      <td>0.054467</td>\n",
       "    </tr>\n",
       "    <tr>\n",
       "      <th>hours-per-week</th>\n",
       "      <td>0.071558</td>\n",
       "      <td>-0.013519</td>\n",
       "      <td>0.143689</td>\n",
       "      <td>0.082157</td>\n",
       "      <td>0.054467</td>\n",
       "      <td>1.000000</td>\n",
       "    </tr>\n",
       "  </tbody>\n",
       "</table>\n",
       "</div>"
      ],
      "text/plain": [
       "                     age    fnlwgt  education-num  capital-gain  capital-loss  \\\n",
       "age             1.000000 -0.076628       0.030940      0.077229      0.056944   \n",
       "fnlwgt         -0.076628  1.000000      -0.038761     -0.003706     -0.004366   \n",
       "education-num   0.030940 -0.038761       1.000000      0.125146      0.080972   \n",
       "capital-gain    0.077229 -0.003706       0.125146      1.000000     -0.031441   \n",
       "capital-loss    0.056944 -0.004366       0.080972     -0.031441      1.000000   \n",
       "hours-per-week  0.071558 -0.013519       0.143689      0.082157      0.054467   \n",
       "\n",
       "                hours-per-week  \n",
       "age                   0.071558  \n",
       "fnlwgt               -0.013519  \n",
       "education-num         0.143689  \n",
       "capital-gain          0.082157  \n",
       "capital-loss          0.054467  \n",
       "hours-per-week        1.000000  "
      ]
     },
     "execution_count": 9,
     "metadata": {},
     "output_type": "execute_result"
    }
   ],
   "source": [
    "adults_corr = adults.corr()\n",
    "adults_corr"
   ]
  },
  {
   "cell_type": "markdown",
   "metadata": {},
   "source": [
    "## Viewing the heatmap of the correlation"
   ]
  },
  {
   "cell_type": "code",
   "execution_count": 10,
   "metadata": {},
   "outputs": [
    {
     "data": {
      "text/plain": [
       "<matplotlib.axes._subplots.AxesSubplot at 0x1a4c13375c8>"
      ]
     },
     "execution_count": 10,
     "metadata": {},
     "output_type": "execute_result"
    },
    {
     "data": {
      "image/png": "[encoded data removed]",
      "text/plain": [
       "<Figure size 432x288 with 2 Axes>"
      ]
     },
     "metadata": {
      "needs_background": "light"
     },
     "output_type": "display_data"
    }
   ],
   "source": [
    "sns.heatmap(adults.corr(),annot=True, fmt=\".3f\")"
   ]
  },
  {
   "cell_type": "markdown",
   "metadata": {},
   "source": [
    "Observations: \n",
    "1. The features not linearly correlated which is a good thing"
   ]
  },
  {
   "cell_type": "markdown",
   "metadata": {},
   "source": [
    "## Displaying the correlation of the input features witht the targeted variable (income)"
   ]
  },
  {
   "cell_type": "code",
   "execution_count": 11,
   "metadata": {},
   "outputs": [],
   "source": [
    "# adults_corr['income'].sort_values(ascending = False)"
   ]
  },
  {
   "cell_type": "markdown",
   "metadata": {},
   "source": [
    "The final weight feature is the most promising as it relates closely to income"
   ]
  },
  {
   "cell_type": "markdown",
   "metadata": {},
   "source": [
    "## Displaying the scatter matrix for numerical data"
   ]
  },
  {
   "cell_type": "code",
   "execution_count": 12,
   "metadata": {},
   "outputs": [],
   "source": [
    "# selected_cols = ['income','education-num','age','hours-per-week']\n",
    "\n",
    "# scatter_matrix(adults[selected_cols], figsize = (12,8))\n",
    "# plt.show()"
   ]
  },
  {
   "cell_type": "markdown",
   "metadata": {},
   "source": [
    "# Data Prepocessing"
   ]
  },
  {
   "cell_type": "markdown",
   "metadata": {},
   "source": [
    "## Tackling the missing values"
   ]
  },
  {
   "cell_type": "code",
   "execution_count": 14,
   "metadata": {},
   "outputs": [
    {
     "name": "stdout",
     "output_type": "stream",
     "text": [
      "Percentage of missing values for workclass: 6.079%\n",
      "Percentage of missing values for occupation: 6.102%\n",
      "Percentage of missing values for native-country: 1.786%\n"
     ]
    }
   ],
   "source": [
    "# workclass, occupation, native-country are the columns with missing values\n",
    "\n",
    "print('Percentage of missing values for workclass: {:.3f}%'.format(\n",
    "    adults['workclass'].isnull().sum() / adults['workclass'].count() * 100))\n",
    "print('Percentage of missing values for occupation: {:.3f}%'.format(\n",
    "    adults['occupation'].isnull().sum() / adults['occupation'].count() * 100))\n",
    "print('Percentage of missing values for native-country: {:.3f}%'.format(\n",
    "    adults['native-country'].isnull().sum() / adults['native-country'].count() * 100))"
   ]
  },
  {
   "cell_type": "markdown",
   "metadata": {},
   "source": [
    "Since the percentage of the missing values are all less than 10%, we will choose to **drop** them"
   ]
  },
  {
   "cell_type": "code",
   "execution_count": 15,
   "metadata": {},
   "outputs": [
    {
     "name": "stdout",
     "output_type": "stream",
     "text": [
      "age               0\n",
      "workclass         0\n",
      "fnlwgt            0\n",
      "education         0\n",
      "education-num     0\n",
      "marital-status    0\n",
      "occupation        0\n",
      "relationship      0\n",
      "race              0\n",
      "sex               0\n",
      "capital-gain      0\n",
      "capital-loss      0\n",
      "hours-per-week    0\n",
      "native-country    0\n",
      "income            0\n",
      "dtype: int64\n"
     ]
    }
   ],
   "source": [
    "adults_noNA = adults.dropna()\n",
    "print(adults_noNA.isnull().sum())"
   ]
  },
  {
   "cell_type": "markdown",
   "metadata": {},
   "source": [
    "## Splitting into training and testing set"
   ]
  },
  {
   "cell_type": "markdown",
   "metadata": {},
   "source": [
    "We split the dataset into X (features) and y (output label)"
   ]
  },
  {
   "cell_type": "code",
   "execution_count": 16,
   "metadata": {},
   "outputs": [
    {
     "name": "stdout",
     "output_type": "stream",
     "text": [
      "Shape of original dataset, adults: (48842, 15)\n",
      "Shape of X: (45222, 14) type = <class 'pandas.core.frame.DataFrame'>\n",
      "Shape of y: (45222,) type = <class 'pandas.core.series.Series'>\n"
     ]
    }
   ],
   "source": [
    "# Drop the income column\n",
    "X = adults_noNA.drop('income', axis = 1)\n",
    "y = adults_noNA['income']\n",
    "\n",
    "print('Shape of original dataset, adults:', adults.shape)\n",
    "print('Shape of X:', X.shape, 'type =', type(X))\n",
    "print('Shape of y:', y.shape, 'type =', type(y))"
   ]
  },
  {
   "cell_type": "markdown",
   "metadata": {},
   "source": [
    "Now we split X and y into training set and testing set"
   ]
  },
  {
   "cell_type": "code",
   "execution_count": 17,
   "metadata": {},
   "outputs": [
    {
     "name": "stdout",
     "output_type": "stream",
     "text": [
      "Shape of the original X: (45222, 14)\n",
      "Shape of X_train: (36177, 14)  y_train: (36177,)\n",
      "Shape of X_test: (9045, 14)  y_train: (9045,)\n"
     ]
    }
   ],
   "source": [
    "# Use train_test_split to split into 80% training and 20% testing\n",
    "\n",
    "X_train, X_test, y_train, y_test = train_test_split(X, y, test_size = 0.2, random_state = 42)\n",
    "\n",
    "print('Shape of the original X:', X.shape)\n",
    "print('Shape of X_train:' ,X_train.shape, ' y_train:',y_train.shape)\n",
    "print('Shape of X_test:' ,X_test.shape, ' y_train:',y_test.shape)"
   ]
  },
  {
   "cell_type": "markdown",
   "metadata": {},
   "source": [
    "Now we split the X_train into categorical and numerical sets"
   ]
  },
  {
   "cell_type": "code",
   "execution_count": 18,
   "metadata": {},
   "outputs": [
    {
     "name": "stdout",
     "output_type": "stream",
     "text": [
      "Shape of X_train_num: (36177, 6)\n",
      "Shape of X_train_cat: (36177, 8)\n"
     ]
    }
   ],
   "source": [
    "cat_col = ['workclass','education','marital-status','occupation','relationship','race','sex','native-country']\n",
    "X_train_num = X_train.drop(cat_col, axis = 1)\n",
    "X_train_cat = X_train[cat_col]\n",
    "\n",
    "print('Shape of X_train_num:', X_train_num.shape)\n",
    "print('Shape of X_train_cat:', X_train_cat.shape)"
   ]
  },
  {
   "cell_type": "markdown",
   "metadata": {},
   "source": [
    "## Normalization"
   ]
  },
  {
   "cell_type": "markdown",
   "metadata": {},
   "source": [
    "As we have mentioned in data analysis, we need to perform standardization as the scales are too large"
   ]
  },
  {
   "cell_type": "markdown",
   "metadata": {},
   "source": [
    "We will use StandardScaler provided by sklearn"
   ]
  },
  {
   "cell_type": "code",
   "execution_count": 19,
   "metadata": {},
   "outputs": [
    {
     "name": "stdout",
     "output_type": "stream",
     "text": [
      "[-2.44723512e-16  6.52072279e-17  2.32349851e-16  9.42755102e-18\n",
      "  4.18347576e-17  2.53070823e-16]\n",
      "[1. 1. 1. 1. 1. 1.]\n"
     ]
    }
   ],
   "source": [
    "scaler = StandardScaler()\n",
    "X_train_num_tr = scaler.fit_transform(X_train_num)\n",
    "\n",
    "print(X_train_num_tr.mean (axis = 0))\n",
    "print(X_train_num_tr.std (axis = 0))"
   ]
  },
  {
   "cell_type": "markdown",
   "metadata": {},
   "source": [
    "## Performing One-hot encoding"
   ]
  },
  {
   "cell_type": "markdown",
   "metadata": {},
   "source": [
    "We will use LabelBinarizer to transform the categorical data"
   ]
  },
  {
   "cell_type": "code",
   "execution_count": 21,
   "metadata": {},
   "outputs": [
    {
     "name": "stdout",
     "output_type": "stream",
     "text": [
      "98 total features after one-hot encoding.\n"
     ]
    },
    {
     "data": {
      "text/plain": [
       "['workclass_Federal-gov',\n",
       " 'workclass_Local-gov',\n",
       " 'workclass_Private',\n",
       " 'workclass_Self-emp-inc',\n",
       " 'workclass_Self-emp-not-inc',\n",
       " 'workclass_State-gov',\n",
       " 'workclass_Without-pay',\n",
       " 'education_10th',\n",
       " 'education_11th',\n",
       " 'education_12th',\n",
       " 'education_1st-4th',\n",
       " 'education_5th-6th',\n",
       " 'education_7th-8th',\n",
       " 'education_9th',\n",
       " 'education_Assoc-acdm',\n",
       " 'education_Assoc-voc',\n",
       " 'education_Bachelors',\n",
       " 'education_Doctorate',\n",
       " 'education_HS-grad',\n",
       " 'education_Masters',\n",
       " 'education_Preschool',\n",
       " 'education_Prof-school',\n",
       " 'education_Some-college',\n",
       " 'marital-status_Divorced',\n",
       " 'marital-status_Married-AF-spouse',\n",
       " 'marital-status_Married-civ-spouse',\n",
       " 'marital-status_Married-spouse-absent',\n",
       " 'marital-status_Never-married',\n",
       " 'marital-status_Separated',\n",
       " 'marital-status_Widowed',\n",
       " 'occupation_Adm-clerical',\n",
       " 'occupation_Armed-Forces',\n",
       " 'occupation_Craft-repair',\n",
       " 'occupation_Exec-managerial',\n",
       " 'occupation_Farming-fishing',\n",
       " 'occupation_Handlers-cleaners',\n",
       " 'occupation_Machine-op-inspct',\n",
       " 'occupation_Other-service',\n",
       " 'occupation_Priv-house-serv',\n",
       " 'occupation_Prof-specialty',\n",
       " 'occupation_Protective-serv',\n",
       " 'occupation_Sales',\n",
       " 'occupation_Tech-support',\n",
       " 'occupation_Transport-moving',\n",
       " 'relationship_Husband',\n",
       " 'relationship_Not-in-family',\n",
       " 'relationship_Other-relative',\n",
       " 'relationship_Own-child',\n",
       " 'relationship_Unmarried',\n",
       " 'relationship_Wife',\n",
       " 'race_Amer-Indian-Eskimo',\n",
       " 'race_Asian-Pac-Islander',\n",
       " 'race_Black',\n",
       " 'race_Other',\n",
       " 'race_White',\n",
       " 'sex_Female',\n",
       " 'sex_Male',\n",
       " 'native-country_Cambodia',\n",
       " 'native-country_Canada',\n",
       " 'native-country_China',\n",
       " 'native-country_Columbia',\n",
       " 'native-country_Cuba',\n",
       " 'native-country_Dominican-Republic',\n",
       " 'native-country_Ecuador',\n",
       " 'native-country_El-Salvador',\n",
       " 'native-country_England',\n",
       " 'native-country_France',\n",
       " 'native-country_Germany',\n",
       " 'native-country_Greece',\n",
       " 'native-country_Guatemala',\n",
       " 'native-country_Haiti',\n",
       " 'native-country_Holand-Netherlands',\n",
       " 'native-country_Honduras',\n",
       " 'native-country_Hong',\n",
       " 'native-country_Hungary',\n",
       " 'native-country_India',\n",
       " 'native-country_Iran',\n",
       " 'native-country_Ireland',\n",
       " 'native-country_Italy',\n",
       " 'native-country_Jamaica',\n",
       " 'native-country_Japan',\n",
       " 'native-country_Laos',\n",
       " 'native-country_Mexico',\n",
       " 'native-country_Nicaragua',\n",
       " 'native-country_Outlying-US(Guam-USVI-etc)',\n",
       " 'native-country_Peru',\n",
       " 'native-country_Philippines',\n",
       " 'native-country_Poland',\n",
       " 'native-country_Portugal',\n",
       " 'native-country_Puerto-Rico',\n",
       " 'native-country_Scotland',\n",
       " 'native-country_South',\n",
       " 'native-country_Taiwan',\n",
       " 'native-country_Thailand',\n",
       " 'native-country_Trinadad&Tobago',\n",
       " 'native-country_United-States',\n",
       " 'native-country_Vietnam',\n",
       " 'native-country_Yugoslavia']"
      ]
     },
     "execution_count": 21,
     "metadata": {},
     "output_type": "execute_result"
    }
   ],
   "source": [
    "X_train_cat_tr_lb = pd.get_dummies(X_train_cat)\n",
    "encoded_fea = list(X_train_cat_tr_lb)\n",
    "print('{} total features after one-hot encoding.'.format(len(encoded_fea)))\n",
    "encoded_fea"
   ]
  },
  {
   "cell_type": "markdown",
   "metadata": {},
   "source": [
    "Now we finalize the training set and test set"
   ]
  },
  {
   "cell_type": "code",
   "execution_count": 22,
   "metadata": {},
   "outputs": [
    {
     "name": "stdout",
     "output_type": "stream",
     "text": [
      "Shape of complete training set: (36177, 104)\n"
     ]
    }
   ],
   "source": [
    "X_train_complete = np.hstack([X_train_num_tr, X_train_cat_tr_lb])\n",
    "\n",
    "print('Shape of complete training set:', X_train_complete.shape)"
   ]
  },
  {
   "cell_type": "markdown",
   "metadata": {},
   "source": [
    "## Changing y_train into a boolean vector"
   ]
  },
  {
   "cell_type": "code",
   "execution_count": 23,
   "metadata": {},
   "outputs": [],
   "source": [
    "y_train_more50K = (y_train == '<=50K')\n",
    "y_test_more50K = (y_test == '>50K')"
   ]
  },
  {
   "cell_type": "markdown",
   "metadata": {},
   "source": [
    "# Performing Classification"
   ]
  },
  {
   "cell_type": "markdown",
   "metadata": {},
   "source": [
    "## Model Selection"
   ]
  },
  {
   "cell_type": "markdown",
   "metadata": {},
   "source": [
    "We have chosen to use\n",
    "1. Decision Tree\n",
    "2. RandomForest\n",
    "3. Stochastic Gradient Descent Classfier\n",
    "4. Logistic Regression"
   ]
  },
  {
   "cell_type": "markdown",
   "metadata": {},
   "source": [
    "## Decision Tree"
   ]
  },
  {
   "cell_type": "code",
   "execution_count": 27,
   "metadata": {},
   "outputs": [
    {
     "name": "stdout",
     "output_type": "stream",
     "text": [
      "Training accuracy: 0.9999\n"
     ]
    }
   ],
   "source": [
    "clf = DecisionTreeClassifier(random_state = 42)\n",
    "clf.fit(X_train_complete, y_train_more50K)\n",
    "tree_pred = clf.predict(X_train_complete)\n",
    "\n",
    "tree_train_acc = accuracy_score(y_train_more50K, tree_pred)\n",
    "\n",
    "print(\"Training accuracy: {:.4f}\".format(tree_train_acc))"
   ]
  },
  {
   "cell_type": "code",
   "execution_count": null,
   "metadata": {},
   "outputs": [],
   "source": []
  }
 ],
 "metadata": {
  "kernelspec": {
   "display_name": "Python 3",
   "language": "python",
   "name": "python3"
  },
  "language_info": {
   "codemirror_mode": {
    "name": "ipython",
    "version": 3
   },
   "file_extension": ".py",
   "mimetype": "text/x-python",
   "name": "python",
   "nbconvert_exporter": "python",
   "pygments_lexer": "ipython3",
   "version": "3.7.7"
  },
  "toc": {
   "base_numbering": 1,
   "nav_menu": {},
   "number_sections": true,
   "sideBar": true,
   "skip_h1_title": false,
   "title_cell": "Table of Contents",
   "title_sidebar": "Contents",
   "toc_cell": true,
   "toc_position": {},
   "toc_section_display": true,
   "toc_window_display": false
  }
 },
 "nbformat": 4,
 "nbformat_minor": 4
}
