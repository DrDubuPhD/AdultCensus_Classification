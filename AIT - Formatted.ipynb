{
 "cells": [
  {
   "cell_type": "markdown",
   "metadata": {
    "toc": true
   },
   "source": [
    "<h1>Table of Contents<span class=\"tocSkip\"></span></h1>\n",
    "<div class=\"toc\"><ul class=\"toc-item\"><li><span><a href=\"#UCCD2063-AIT-Assignment-Introduction\" data-toc-modified-id=\"UCCD2063-AIT-Assignment-Introduction-1\"><span class=\"toc-item-num\">1&nbsp;&nbsp;</span>UCCD2063 AIT Assignment Introduction</a></span></li><li><span><a href=\"#Importing-All-Necessary-Modules\" data-toc-modified-id=\"Importing-All-Necessary-Modules-2\"><span class=\"toc-item-num\">2&nbsp;&nbsp;</span>Importing All Necessary Modules</a></span></li><li><span><a href=\"#Loading-the-Dataset-Using-Pandas\" data-toc-modified-id=\"Loading-the-Dataset-Using-Pandas-3\"><span class=\"toc-item-num\">3&nbsp;&nbsp;</span>Loading the Dataset Using Pandas</a></span></li><li><span><a href=\"#Exploration-&amp;-Analysis-of-Dataset\" data-toc-modified-id=\"Exploration-&amp;-Analysis-of-Dataset-4\"><span class=\"toc-item-num\">4&nbsp;&nbsp;</span>Exploration &amp; Analysis of Dataset</a></span><ul class=\"toc-item\"><li><span><a href=\"#Rough-Analysis\" data-toc-modified-id=\"Rough-Analysis-4.1\"><span class=\"toc-item-num\">4.1&nbsp;&nbsp;</span>Rough Analysis</a></span><ul class=\"toc-item\"><li><span><a href=\"#Analysis-of-Output-Label\" data-toc-modified-id=\"Analysis-of-Output-Label-4.1.1\"><span class=\"toc-item-num\">4.1.1&nbsp;&nbsp;</span>Analysis of Output Label</a></span></li><li><span><a href=\"#Missing-Values\" data-toc-modified-id=\"Missing-Values-4.1.2\"><span class=\"toc-item-num\">4.1.2&nbsp;&nbsp;</span>Missing Values</a></span></li></ul></li><li><span><a href=\"#Statistics-of-Numerical-Attributes\" data-toc-modified-id=\"Statistics-of-Numerical-Attributes-4.2\"><span class=\"toc-item-num\">4.2&nbsp;&nbsp;</span>Statistics of Numerical Attributes</a></span></li><li><span><a href=\"#Viewing-the-Histogram-for-Each-Numerical-Attribute\" data-toc-modified-id=\"Viewing-the-Histogram-for-Each-Numerical-Attribute-4.3\"><span class=\"toc-item-num\">4.3&nbsp;&nbsp;</span>Viewing the Histogram for Each Numerical Attribute</a></span></li><li><span><a href=\"#Analysis-of-Categorical-Data\" data-toc-modified-id=\"Analysis-of-Categorical-Data-4.4\"><span class=\"toc-item-num\">4.4&nbsp;&nbsp;</span>Analysis of Categorical Data</a></span></li><li><span><a href=\"#Correlation-Matrix-Between-Numerical-Attributes\" data-toc-modified-id=\"Correlation-Matrix-Between-Numerical-Attributes-4.5\"><span class=\"toc-item-num\">4.5&nbsp;&nbsp;</span>Correlation Matrix Between Numerical Attributes</a></span></li><li><span><a href=\"#Heatmap-of-the-Correlation\" data-toc-modified-id=\"Heatmap-of-the-Correlation-4.6\"><span class=\"toc-item-num\">4.6&nbsp;&nbsp;</span>Heatmap of the Correlation</a></span></li></ul></li><li><span><a href=\"#Data-Prepocessing\" data-toc-modified-id=\"Data-Prepocessing-5\"><span class=\"toc-item-num\">5&nbsp;&nbsp;</span>Data Prepocessing</a></span><ul class=\"toc-item\"><li><span><a href=\"#Dealing-the-Missing-Values\" data-toc-modified-id=\"Dealing-the-Missing-Values-5.1\"><span class=\"toc-item-num\">5.1&nbsp;&nbsp;</span>Dealing the Missing Values</a></span></li><li><span><a href=\"#Splitting-Dataset-into-Training-and-Testing-Set\" data-toc-modified-id=\"Splitting-Dataset-into-Training-and-Testing-Set-5.2\"><span class=\"toc-item-num\">5.2&nbsp;&nbsp;</span>Splitting Dataset into Training and Testing Set</a></span></li><li><span><a href=\"#Normalization\" data-toc-modified-id=\"Normalization-5.3\"><span class=\"toc-item-num\">5.3&nbsp;&nbsp;</span>Normalization</a></span></li><li><span><a href=\"#One-hot-Encoding\" data-toc-modified-id=\"One-hot-Encoding-5.4\"><span class=\"toc-item-num\">5.4&nbsp;&nbsp;</span>One-hot Encoding</a></span></li><li><span><a href=\"#Changing-y_train-into-a-Boolean-Vector\" data-toc-modified-id=\"Changing-y_train-into-a-Boolean-Vector-5.5\"><span class=\"toc-item-num\">5.5&nbsp;&nbsp;</span>Changing y_train into a Boolean Vector</a></span></li></ul></li><li><span><a href=\"#Performing-Classification\" data-toc-modified-id=\"Performing-Classification-6\"><span class=\"toc-item-num\">6&nbsp;&nbsp;</span>Performing Classification</a></span><ul class=\"toc-item\"><li><span><a href=\"#Model-Selection\" data-toc-modified-id=\"Model-Selection-6.1\"><span class=\"toc-item-num\">6.1&nbsp;&nbsp;</span>Model Selection</a></span></li><li><span><a href=\"#Stochastic-Gradient-Descent-Classifier\" data-toc-modified-id=\"Stochastic-Gradient-Descent-Classifier-6.2\"><span class=\"toc-item-num\">6.2&nbsp;&nbsp;</span>Stochastic Gradient Descent Classifier</a></span></li><li><span><a href=\"#Logistic-Regression\" data-toc-modified-id=\"Logistic-Regression-6.3\"><span class=\"toc-item-num\">6.3&nbsp;&nbsp;</span>Logistic Regression</a></span></li><li><span><a href=\"#Linear-Discriminant-Analysis\" data-toc-modified-id=\"Linear-Discriminant-Analysis-6.4\"><span class=\"toc-item-num\">6.4&nbsp;&nbsp;</span>Linear Discriminant Analysis</a></span></li><li><span><a href=\"#AdaBoostClassifier\" data-toc-modified-id=\"AdaBoostClassifier-6.5\"><span class=\"toc-item-num\">6.5&nbsp;&nbsp;</span>AdaBoostClassifier</a></span></li><li><span><a href=\"#Evaluation-of-Models-using-Cross-Validation\" data-toc-modified-id=\"Evaluation-of-Models-using-Cross-Validation-6.6\"><span class=\"toc-item-num\">6.6&nbsp;&nbsp;</span>Evaluation of Models using Cross-Validation</a></span></li><li><span><a href=\"#Summary-of-Models\" data-toc-modified-id=\"Summary-of-Models-6.7\"><span class=\"toc-item-num\">6.7&nbsp;&nbsp;</span>Summary of Models</a></span></li></ul></li><li><span><a href=\"#Model-Validation-and-Result-Visualization\" data-toc-modified-id=\"Model-Validation-and-Result-Visualization-7\"><span class=\"toc-item-num\">7&nbsp;&nbsp;</span>Model Validation and Result Visualization</a></span><ul class=\"toc-item\"><li><span><a href=\"#Computation-of-Cross-Validated-Prediction\" data-toc-modified-id=\"Computation-of-Cross-Validated-Prediction-7.1\"><span class=\"toc-item-num\">7.1&nbsp;&nbsp;</span>Computation of Cross-Validated Prediction</a></span></li><li><span><a href=\"#Computation-of-Confusion-Matrix\" data-toc-modified-id=\"Computation-of-Confusion-Matrix-7.2\"><span class=\"toc-item-num\">7.2&nbsp;&nbsp;</span>Computation of Confusion Matrix</a></span></li><li><span><a href=\"#Calculation-of-Precision,-Recall-and-F1-Score-for-Each-Model\" data-toc-modified-id=\"Calculation-of-Precision,-Recall-and-F1-Score-for-Each-Model-7.3\"><span class=\"toc-item-num\">7.3&nbsp;&nbsp;</span>Calculation of Precision, Recall and F1 Score for Each Model</a></span></li><li><span><a href=\"#Plotting-the-PR-Curve\" data-toc-modified-id=\"Plotting-the-PR-Curve-7.4\"><span class=\"toc-item-num\">7.4&nbsp;&nbsp;</span>Plotting the PR Curve</a></span></li><li><span><a href=\"#Extraction-of-Desired-Threshold-Value\" data-toc-modified-id=\"Extraction-of-Desired-Threshold-Value-7.5\"><span class=\"toc-item-num\">7.5&nbsp;&nbsp;</span>Extraction of Desired Threshold Value</a></span><ul class=\"toc-item\"><li><span><a href=\"#SGD-Preferred-Threshold\" data-toc-modified-id=\"SGD-Preferred-Threshold-7.5.1\"><span class=\"toc-item-num\">7.5.1&nbsp;&nbsp;</span>SGD Preferred Threshold</a></span></li><li><span><a href=\"#LR-Preferred-Threshold\" data-toc-modified-id=\"LR-Preferred-Threshold-7.5.2\"><span class=\"toc-item-num\">7.5.2&nbsp;&nbsp;</span>LR Preferred Threshold</a></span></li><li><span><a href=\"#LDA-Preferred-Threshold\" data-toc-modified-id=\"LDA-Preferred-Threshold-7.5.3\"><span class=\"toc-item-num\">7.5.3&nbsp;&nbsp;</span>LDA Preferred Threshold</a></span></li><li><span><a href=\"#ADA-Preferred-Threshold\" data-toc-modified-id=\"ADA-Preferred-Threshold-7.5.4\"><span class=\"toc-item-num\">7.5.4&nbsp;&nbsp;</span>ADA Preferred Threshold</a></span></li></ul></li><li><span><a href=\"#Plotting-the-ROC-Curve\" data-toc-modified-id=\"Plotting-the-ROC-Curve-7.6\"><span class=\"toc-item-num\">7.6&nbsp;&nbsp;</span>Plotting the ROC Curve</a></span></li><li><span><a href=\"#AUC\" data-toc-modified-id=\"AUC-7.7\"><span class=\"toc-item-num\">7.7&nbsp;&nbsp;</span>AUC</a></span></li><li><span><a href=\"#Conclusion\" data-toc-modified-id=\"Conclusion-7.8\"><span class=\"toc-item-num\">7.8&nbsp;&nbsp;</span>Conclusion</a></span></li></ul></li><li><span><a href=\"#Fine-Tuning\" data-toc-modified-id=\"Fine-Tuning-8\"><span class=\"toc-item-num\">8&nbsp;&nbsp;</span>Fine Tuning</a></span><ul class=\"toc-item\"><li><span><a href=\"#Experimenting-with-Different-Hyperparameters\" data-toc-modified-id=\"Experimenting-with-Different-Hyperparameters-8.1\"><span class=\"toc-item-num\">8.1&nbsp;&nbsp;</span>Experimenting with Different Hyperparameters</a></span></li><li><span><a href=\"#GridSearchCV\" data-toc-modified-id=\"GridSearchCV-8.2\"><span class=\"toc-item-num\">8.2&nbsp;&nbsp;</span>GridSearchCV</a></span><ul class=\"toc-item\"><li><span><a href=\"#SGD\" data-toc-modified-id=\"SGD-8.2.1\"><span class=\"toc-item-num\">8.2.1&nbsp;&nbsp;</span>SGD</a></span></li><li><span><a href=\"#LR\" data-toc-modified-id=\"LR-8.2.2\"><span class=\"toc-item-num\">8.2.2&nbsp;&nbsp;</span>LR</a></span></li><li><span><a href=\"#LDA\" data-toc-modified-id=\"LDA-8.2.3\"><span class=\"toc-item-num\">8.2.3&nbsp;&nbsp;</span>LDA</a></span></li><li><span><a href=\"#ADA\" data-toc-modified-id=\"ADA-8.2.4\"><span class=\"toc-item-num\">8.2.4&nbsp;&nbsp;</span>ADA</a></span></li></ul></li></ul></li><li><span><a href=\"#Testing\" data-toc-modified-id=\"Testing-9\"><span class=\"toc-item-num\">9&nbsp;&nbsp;</span>Testing</a></span><ul class=\"toc-item\"><li><span><a href=\"#Preparing-Test-Data\" data-toc-modified-id=\"Preparing-Test-Data-9.1\"><span class=\"toc-item-num\">9.1&nbsp;&nbsp;</span>Preparing Test Data</a></span></li><li><span><a href=\"#Prediction-on-unseen-data\" data-toc-modified-id=\"Prediction-on-unseen-data-9.2\"><span class=\"toc-item-num\">9.2&nbsp;&nbsp;</span>Prediction on unseen data</a></span><ul class=\"toc-item\"><li><span><a href=\"#SGD\" data-toc-modified-id=\"SGD-9.2.1\"><span class=\"toc-item-num\">9.2.1&nbsp;&nbsp;</span>SGD</a></span></li><li><span><a href=\"#LR\" data-toc-modified-id=\"LR-9.2.2\"><span class=\"toc-item-num\">9.2.2&nbsp;&nbsp;</span>LR</a></span></li><li><span><a href=\"#LDA\" data-toc-modified-id=\"LDA-9.2.3\"><span class=\"toc-item-num\">9.2.3&nbsp;&nbsp;</span>LDA</a></span></li><li><span><a href=\"#ADA\" data-toc-modified-id=\"ADA-9.2.4\"><span class=\"toc-item-num\">9.2.4&nbsp;&nbsp;</span>ADA</a></span></li></ul></li></ul></li><li><span><a href=\"#Conlusion\" data-toc-modified-id=\"Conlusion-10\"><span class=\"toc-item-num\">10&nbsp;&nbsp;</span>Conlusion</a></span></li></ul></div>"
   ]
  },
  {
   "cell_type": "markdown",
   "metadata": {},
   "source": [
    "# UCCD2063 AIT Assignment Introduction"
   ]
  },
  {
   "cell_type": "markdown",
   "metadata": {},
   "source": [
    "Member| 1 | 2 | 3 |\n",
    "--|--|--|--|\n",
    "Name|Chee Man Hang|Lee Jac Sern|Ng Jan Hui|\n",
    "ID|18ACB03448|18ACB05162|18ACB02347|"
   ]
  },
  {
   "cell_type": "markdown",
   "metadata": {},
   "source": [
    "Welcome to the coding for the assignment. We have chosen the **Adult Data Set** from the UCI Machine Repository as the basis for our assignment. We will perform classification on the dataset to predict whether a person's income will be more than 50K.<br><br>\n",
    "Link to dataset - https://archive.ics.uci.edu/ml/datasets/adult"
   ]
  },
  {
   "cell_type": "markdown",
   "metadata": {},
   "source": [
    "We will be using SMOTENC from the imblearn libary, so please be sure to install imblearn using the anaconda prompt.<br>`conda install -c conda-forge imbalanced-learn`"
   ]
  },
  {
   "cell_type": "markdown",
   "metadata": {},
   "source": [
    "# Importing All Necessary Modules"
   ]
  },
  {
   "cell_type": "code",
   "execution_count": 1,
   "metadata": {},
   "outputs": [],
   "source": [
    "import numpy as np\n",
    "import pandas as pd\n",
    "import seaborn as sns\n",
    "import matplotlib.pyplot as plt\n",
    "\n",
    "from sklearn.utils import shuffle\n",
    "from imblearn.over_sampling import SMOTENC\n",
    "\n",
    "from sklearn.discriminant_analysis import LinearDiscriminantAnalysis\n",
    "from sklearn.ensemble import AdaBoostClassifier\n",
    "from sklearn.linear_model import LogisticRegression\n",
    "from sklearn.linear_model import SGDClassifier\n",
    "\n",
    "from sklearn.metrics import accuracy_score\n",
    "from sklearn.metrics import confusion_matrix\n",
    "from sklearn.metrics import plot_roc_curve\n",
    "from sklearn.metrics import precision_recall_curve\n",
    "from sklearn.metrics import precision_score, recall_score, f1_score\n",
    "from sklearn.metrics import roc_curve, roc_auc_score\n",
    "\n",
    "from sklearn.model_selection import cross_val_predict\n",
    "from sklearn.model_selection import cross_val_score\n",
    "from sklearn.model_selection import GridSearchCV\n",
    "from sklearn.model_selection import train_test_split\n",
    "\n",
    "from sklearn.preprocessing import OneHotEncoder\n",
    "from sklearn.preprocessing import StandardScaler"
   ]
  },
  {
   "cell_type": "markdown",
   "metadata": {},
   "source": [
    "# Loading the Dataset Using Pandas"
   ]
  },
  {
   "cell_type": "code",
   "execution_count": 2,
   "metadata": {
    "scrolled": false
   },
   "outputs": [
    {
     "data": {
      "text/html": [
       "<div>\n",
       "<style scoped>\n",
       "    .dataframe tbody tr th:only-of-type {\n",
       "        vertical-align: middle;\n",
       "    }\n",
       "\n",
       "    .dataframe tbody tr th {\n",
       "        vertical-align: top;\n",
       "    }\n",
       "\n",
       "    .dataframe thead th {\n",
       "        text-align: right;\n",
       "    }\n",
       "</style>\n",
       "<table border=\"1\" class=\"dataframe\">\n",
       "  <thead>\n",
       "    <tr style=\"text-align: right;\">\n",
       "      <th></th>\n",
       "      <th>age</th>\n",
       "      <th>workclass</th>\n",
       "      <th>fnlwgt</th>\n",
       "      <th>education</th>\n",
       "      <th>education-num</th>\n",
       "      <th>marital-status</th>\n",
       "      <th>occupation</th>\n",
       "      <th>relationship</th>\n",
       "      <th>race</th>\n",
       "      <th>sex</th>\n",
       "      <th>capital-gain</th>\n",
       "      <th>capital-loss</th>\n",
       "      <th>hours-per-week</th>\n",
       "      <th>native-country</th>\n",
       "      <th>income</th>\n",
       "    </tr>\n",
       "  </thead>\n",
       "  <tbody>\n",
       "    <tr>\n",
       "      <th>0</th>\n",
       "      <td>39</td>\n",
       "      <td>State-gov</td>\n",
       "      <td>77516</td>\n",
       "      <td>Bachelors</td>\n",
       "      <td>13</td>\n",
       "      <td>Never-married</td>\n",
       "      <td>Adm-clerical</td>\n",
       "      <td>Not-in-family</td>\n",
       "      <td>White</td>\n",
       "      <td>Male</td>\n",
       "      <td>2174</td>\n",
       "      <td>0</td>\n",
       "      <td>40</td>\n",
       "      <td>United-States</td>\n",
       "      <td>&lt;=50K</td>\n",
       "    </tr>\n",
       "    <tr>\n",
       "      <th>1</th>\n",
       "      <td>50</td>\n",
       "      <td>Self-emp-not-inc</td>\n",
       "      <td>83311</td>\n",
       "      <td>Bachelors</td>\n",
       "      <td>13</td>\n",
       "      <td>Married-civ-spouse</td>\n",
       "      <td>Exec-managerial</td>\n",
       "      <td>Husband</td>\n",
       "      <td>White</td>\n",
       "      <td>Male</td>\n",
       "      <td>0</td>\n",
       "      <td>0</td>\n",
       "      <td>13</td>\n",
       "      <td>United-States</td>\n",
       "      <td>&lt;=50K</td>\n",
       "    </tr>\n",
       "    <tr>\n",
       "      <th>2</th>\n",
       "      <td>38</td>\n",
       "      <td>Private</td>\n",
       "      <td>215646</td>\n",
       "      <td>HS-grad</td>\n",
       "      <td>9</td>\n",
       "      <td>Divorced</td>\n",
       "      <td>Handlers-cleaners</td>\n",
       "      <td>Not-in-family</td>\n",
       "      <td>White</td>\n",
       "      <td>Male</td>\n",
       "      <td>0</td>\n",
       "      <td>0</td>\n",
       "      <td>40</td>\n",
       "      <td>United-States</td>\n",
       "      <td>&lt;=50K</td>\n",
       "    </tr>\n",
       "    <tr>\n",
       "      <th>3</th>\n",
       "      <td>53</td>\n",
       "      <td>Private</td>\n",
       "      <td>234721</td>\n",
       "      <td>11th</td>\n",
       "      <td>7</td>\n",
       "      <td>Married-civ-spouse</td>\n",
       "      <td>Handlers-cleaners</td>\n",
       "      <td>Husband</td>\n",
       "      <td>Black</td>\n",
       "      <td>Male</td>\n",
       "      <td>0</td>\n",
       "      <td>0</td>\n",
       "      <td>40</td>\n",
       "      <td>United-States</td>\n",
       "      <td>&lt;=50K</td>\n",
       "    </tr>\n",
       "    <tr>\n",
       "      <th>4</th>\n",
       "      <td>28</td>\n",
       "      <td>Private</td>\n",
       "      <td>338409</td>\n",
       "      <td>Bachelors</td>\n",
       "      <td>13</td>\n",
       "      <td>Married-civ-spouse</td>\n",
       "      <td>Prof-specialty</td>\n",
       "      <td>Wife</td>\n",
       "      <td>Black</td>\n",
       "      <td>Female</td>\n",
       "      <td>0</td>\n",
       "      <td>0</td>\n",
       "      <td>40</td>\n",
       "      <td>Cuba</td>\n",
       "      <td>&lt;=50K</td>\n",
       "    </tr>\n",
       "    <tr>\n",
       "      <th>5</th>\n",
       "      <td>37</td>\n",
       "      <td>Private</td>\n",
       "      <td>284582</td>\n",
       "      <td>Masters</td>\n",
       "      <td>14</td>\n",
       "      <td>Married-civ-spouse</td>\n",
       "      <td>Exec-managerial</td>\n",
       "      <td>Wife</td>\n",
       "      <td>White</td>\n",
       "      <td>Female</td>\n",
       "      <td>0</td>\n",
       "      <td>0</td>\n",
       "      <td>40</td>\n",
       "      <td>United-States</td>\n",
       "      <td>&lt;=50K</td>\n",
       "    </tr>\n",
       "    <tr>\n",
       "      <th>6</th>\n",
       "      <td>49</td>\n",
       "      <td>Private</td>\n",
       "      <td>160187</td>\n",
       "      <td>9th</td>\n",
       "      <td>5</td>\n",
       "      <td>Married-spouse-absent</td>\n",
       "      <td>Other-service</td>\n",
       "      <td>Not-in-family</td>\n",
       "      <td>Black</td>\n",
       "      <td>Female</td>\n",
       "      <td>0</td>\n",
       "      <td>0</td>\n",
       "      <td>16</td>\n",
       "      <td>Jamaica</td>\n",
       "      <td>&lt;=50K</td>\n",
       "    </tr>\n",
       "    <tr>\n",
       "      <th>7</th>\n",
       "      <td>52</td>\n",
       "      <td>Self-emp-not-inc</td>\n",
       "      <td>209642</td>\n",
       "      <td>HS-grad</td>\n",
       "      <td>9</td>\n",
       "      <td>Married-civ-spouse</td>\n",
       "      <td>Exec-managerial</td>\n",
       "      <td>Husband</td>\n",
       "      <td>White</td>\n",
       "      <td>Male</td>\n",
       "      <td>0</td>\n",
       "      <td>0</td>\n",
       "      <td>45</td>\n",
       "      <td>United-States</td>\n",
       "      <td>&gt;50K</td>\n",
       "    </tr>\n",
       "    <tr>\n",
       "      <th>8</th>\n",
       "      <td>31</td>\n",
       "      <td>Private</td>\n",
       "      <td>45781</td>\n",
       "      <td>Masters</td>\n",
       "      <td>14</td>\n",
       "      <td>Never-married</td>\n",
       "      <td>Prof-specialty</td>\n",
       "      <td>Not-in-family</td>\n",
       "      <td>White</td>\n",
       "      <td>Female</td>\n",
       "      <td>14084</td>\n",
       "      <td>0</td>\n",
       "      <td>50</td>\n",
       "      <td>United-States</td>\n",
       "      <td>&gt;50K</td>\n",
       "    </tr>\n",
       "    <tr>\n",
       "      <th>9</th>\n",
       "      <td>42</td>\n",
       "      <td>Private</td>\n",
       "      <td>159449</td>\n",
       "      <td>Bachelors</td>\n",
       "      <td>13</td>\n",
       "      <td>Married-civ-spouse</td>\n",
       "      <td>Exec-managerial</td>\n",
       "      <td>Husband</td>\n",
       "      <td>White</td>\n",
       "      <td>Male</td>\n",
       "      <td>5178</td>\n",
       "      <td>0</td>\n",
       "      <td>40</td>\n",
       "      <td>United-States</td>\n",
       "      <td>&gt;50K</td>\n",
       "    </tr>\n",
       "  </tbody>\n",
       "</table>\n",
       "</div>"
      ],
      "text/plain": [
       "   age         workclass  fnlwgt  education  education-num  \\\n",
       "0   39         State-gov   77516  Bachelors             13   \n",
       "1   50  Self-emp-not-inc   83311  Bachelors             13   \n",
       "2   38           Private  215646    HS-grad              9   \n",
       "3   53           Private  234721       11th              7   \n",
       "4   28           Private  338409  Bachelors             13   \n",
       "5   37           Private  284582    Masters             14   \n",
       "6   49           Private  160187        9th              5   \n",
       "7   52  Self-emp-not-inc  209642    HS-grad              9   \n",
       "8   31           Private   45781    Masters             14   \n",
       "9   42           Private  159449  Bachelors             13   \n",
       "\n",
       "          marital-status         occupation   relationship   race     sex  \\\n",
       "0          Never-married       Adm-clerical  Not-in-family  White    Male   \n",
       "1     Married-civ-spouse    Exec-managerial        Husband  White    Male   \n",
       "2               Divorced  Handlers-cleaners  Not-in-family  White    Male   \n",
       "3     Married-civ-spouse  Handlers-cleaners        Husband  Black    Male   \n",
       "4     Married-civ-spouse     Prof-specialty           Wife  Black  Female   \n",
       "5     Married-civ-spouse    Exec-managerial           Wife  White  Female   \n",
       "6  Married-spouse-absent      Other-service  Not-in-family  Black  Female   \n",
       "7     Married-civ-spouse    Exec-managerial        Husband  White    Male   \n",
       "8          Never-married     Prof-specialty  Not-in-family  White  Female   \n",
       "9     Married-civ-spouse    Exec-managerial        Husband  White    Male   \n",
       "\n",
       "   capital-gain  capital-loss  hours-per-week native-country income  \n",
       "0          2174             0              40  United-States  <=50K  \n",
       "1             0             0              13  United-States  <=50K  \n",
       "2             0             0              40  United-States  <=50K  \n",
       "3             0             0              40  United-States  <=50K  \n",
       "4             0             0              40           Cuba  <=50K  \n",
       "5             0             0              40  United-States  <=50K  \n",
       "6             0             0              16        Jamaica  <=50K  \n",
       "7             0             0              45  United-States   >50K  \n",
       "8         14084             0              50  United-States   >50K  \n",
       "9          5178             0              40  United-States   >50K  "
      ]
     },
     "execution_count": 2,
     "metadata": {},
     "output_type": "execute_result"
    }
   ],
   "source": [
    "# Setting Column Names For The Dataset\n",
    "cols = ['age', 'workclass', 'fnlwgt', 'education', 'education-num', 'marital-status', 'occupation', \n",
    "        'relationship', 'race', 'sex', 'capital-gain', 'capital-loss', 'hours-per-week', 'native-country', \n",
    "        'income']\n",
    "\n",
    "# Reading The Dataset Into A Dataframe, Certain Data Fields Have '?' as null Value\n",
    "adults = pd.read_csv('./Adults/adult.data', names = cols, index_col = False, na_values = ['?'], skipinitialspace = True)\n",
    "\n",
    "# Peeking The First 10 Rows Of The Dataset\n",
    "adults.head(10)"
   ]
  },
  {
   "cell_type": "markdown",
   "metadata": {},
   "source": [
    "# Exploration & Analysis of Dataset"
   ]
  },
  {
   "cell_type": "markdown",
   "metadata": {},
   "source": [
    "## Rough Analysis"
   ]
  },
  {
   "cell_type": "code",
   "execution_count": 3,
   "metadata": {},
   "outputs": [
    {
     "name": "stdout",
     "output_type": "stream",
     "text": [
      "<class 'pandas.core.frame.DataFrame'>\n",
      "RangeIndex: 48842 entries, 0 to 48841\n",
      "Data columns (total 15 columns):\n",
      " #   Column          Non-Null Count  Dtype \n",
      "---  ------          --------------  ----- \n",
      " 0   age             48842 non-null  int64 \n",
      " 1   workclass       46043 non-null  object\n",
      " 2   fnlwgt          48842 non-null  int64 \n",
      " 3   education       48842 non-null  object\n",
      " 4   education-num   48842 non-null  int64 \n",
      " 5   marital-status  48842 non-null  object\n",
      " 6   occupation      46033 non-null  object\n",
      " 7   relationship    48842 non-null  object\n",
      " 8   race            48842 non-null  object\n",
      " 9   sex             48842 non-null  object\n",
      " 10  capital-gain    48842 non-null  int64 \n",
      " 11  capital-loss    48842 non-null  int64 \n",
      " 12  hours-per-week  48842 non-null  int64 \n",
      " 13  native-country  47985 non-null  object\n",
      " 14  income          48842 non-null  object\n",
      "dtypes: int64(6), object(9)\n",
      "memory usage: 5.6+ MB\n"
     ]
    }
   ],
   "source": [
    "adults.info()"
   ]
  },
  {
   "cell_type": "markdown",
   "metadata": {},
   "source": [
    "Through the .info() method, we can see that there are a total of **15 attributes** and **1 output label** - **income**, in the DataFrame.\n",
    "\n",
    "Observations:\n",
    "\n",
    "1. Out of the **15 attributes**, 6 of them are numerical data, while the remaining 8 are categorical data.\n",
    "2. There are a total of **48842 instances**.\n",
    "3. A total of 3 attributes contain missing values."
   ]
  },
  {
   "cell_type": "markdown",
   "metadata": {},
   "source": [
    "### Analysis of Output Label"
   ]
  },
  {
   "cell_type": "code",
   "execution_count": 4,
   "metadata": {},
   "outputs": [
    {
     "data": {
      "text/plain": [
       "<=50K    37155\n",
       ">50K     11687\n",
       "Name: income, dtype: int64"
      ]
     },
     "execution_count": 4,
     "metadata": {},
     "output_type": "execute_result"
    }
   ],
   "source": [
    "adults.income.value_counts()"
   ]
  },
  {
   "cell_type": "code",
   "execution_count": 5,
   "metadata": {},
   "outputs": [
    {
     "data": {
      "image/png": "[encoded data removed]",
      "text/plain": [
       "<Figure size 432x288 with 1 Axes>"
      ]
     },
     "metadata": {
      "needs_background": "light"
     },
     "output_type": "display_data"
    }
   ],
   "source": [
    "adults.income.hist()\n",
    "plt.show()"
   ]
  },
  {
   "cell_type": "markdown",
   "metadata": {},
   "source": [
    "Observations:\n",
    "1. There are 2 distinct outputs, which makes this a **Binary Classification** task.\n",
    "2. The no. of people making more than \\$50,000 is 11687.\n",
    "3. The no. of people making at most \\$50,000 is 37155.\n",
    "4. The percentage of people making more than \\$50,000 is approximately 23.39\\%.\n",
    "5. This dataset is skewed.\n",
    "6. Oversampling / Undersampling needs to be performed to balance the majority and minority classes."
   ]
  },
  {
   "cell_type": "markdown",
   "metadata": {},
   "source": [
    "### Missing Values"
   ]
  },
  {
   "cell_type": "code",
   "execution_count": 6,
   "metadata": {},
   "outputs": [
    {
     "data": {
      "text/plain": [
       "age                  0\n",
       "workclass         2799\n",
       "fnlwgt               0\n",
       "education            0\n",
       "education-num        0\n",
       "marital-status       0\n",
       "occupation        2809\n",
       "relationship         0\n",
       "race                 0\n",
       "sex                  0\n",
       "capital-gain         0\n",
       "capital-loss         0\n",
       "hours-per-week       0\n",
       "native-country     857\n",
       "income               0\n",
       "dtype: int64"
      ]
     },
     "execution_count": 6,
     "metadata": {},
     "output_type": "execute_result"
    }
   ],
   "source": [
    "adults.isnull().sum()"
   ]
  },
  {
   "cell_type": "markdown",
   "metadata": {},
   "source": [
    "We may need to **impute** or **drop** rows with missing values for workclass, occupation, or native-country."
   ]
  },
  {
   "cell_type": "markdown",
   "metadata": {},
   "source": [
    "## Statistics of Numerical Attributes"
   ]
  },
  {
   "cell_type": "code",
   "execution_count": 7,
   "metadata": {},
   "outputs": [
    {
     "data": {
      "text/html": [
       "<div>\n",
       "<style scoped>\n",
       "    .dataframe tbody tr th:only-of-type {\n",
       "        vertical-align: middle;\n",
       "    }\n",
       "\n",
       "    .dataframe tbody tr th {\n",
       "        vertical-align: top;\n",
       "    }\n",
       "\n",
       "    .dataframe thead th {\n",
       "        text-align: right;\n",
       "    }\n",
       "</style>\n",
       "<table border=\"1\" class=\"dataframe\">\n",
       "  <thead>\n",
       "    <tr style=\"text-align: right;\">\n",
       "      <th></th>\n",
       "      <th>age</th>\n",
       "      <th>fnlwgt</th>\n",
       "      <th>education-num</th>\n",
       "      <th>capital-gain</th>\n",
       "      <th>capital-loss</th>\n",
       "      <th>hours-per-week</th>\n",
       "    </tr>\n",
       "  </thead>\n",
       "  <tbody>\n",
       "    <tr>\n",
       "      <th>count</th>\n",
       "      <td>48842.000000</td>\n",
       "      <td>4.884200e+04</td>\n",
       "      <td>48842.000000</td>\n",
       "      <td>48842.000000</td>\n",
       "      <td>48842.000000</td>\n",
       "      <td>48842.000000</td>\n",
       "    </tr>\n",
       "    <tr>\n",
       "      <th>mean</th>\n",
       "      <td>38.643585</td>\n",
       "      <td>1.896641e+05</td>\n",
       "      <td>10.078089</td>\n",
       "      <td>1079.067626</td>\n",
       "      <td>87.502314</td>\n",
       "      <td>40.422382</td>\n",
       "    </tr>\n",
       "    <tr>\n",
       "      <th>std</th>\n",
       "      <td>13.710510</td>\n",
       "      <td>1.056040e+05</td>\n",
       "      <td>2.570973</td>\n",
       "      <td>7452.019058</td>\n",
       "      <td>403.004552</td>\n",
       "      <td>12.391444</td>\n",
       "    </tr>\n",
       "    <tr>\n",
       "      <th>min</th>\n",
       "      <td>17.000000</td>\n",
       "      <td>1.228500e+04</td>\n",
       "      <td>1.000000</td>\n",
       "      <td>0.000000</td>\n",
       "      <td>0.000000</td>\n",
       "      <td>1.000000</td>\n",
       "    </tr>\n",
       "    <tr>\n",
       "      <th>25%</th>\n",
       "      <td>28.000000</td>\n",
       "      <td>1.175505e+05</td>\n",
       "      <td>9.000000</td>\n",
       "      <td>0.000000</td>\n",
       "      <td>0.000000</td>\n",
       "      <td>40.000000</td>\n",
       "    </tr>\n",
       "    <tr>\n",
       "      <th>50%</th>\n",
       "      <td>37.000000</td>\n",
       "      <td>1.781445e+05</td>\n",
       "      <td>10.000000</td>\n",
       "      <td>0.000000</td>\n",
       "      <td>0.000000</td>\n",
       "      <td>40.000000</td>\n",
       "    </tr>\n",
       "    <tr>\n",
       "      <th>75%</th>\n",
       "      <td>48.000000</td>\n",
       "      <td>2.376420e+05</td>\n",
       "      <td>12.000000</td>\n",
       "      <td>0.000000</td>\n",
       "      <td>0.000000</td>\n",
       "      <td>45.000000</td>\n",
       "    </tr>\n",
       "    <tr>\n",
       "      <th>max</th>\n",
       "      <td>90.000000</td>\n",
       "      <td>1.490400e+06</td>\n",
       "      <td>16.000000</td>\n",
       "      <td>99999.000000</td>\n",
       "      <td>4356.000000</td>\n",
       "      <td>99.000000</td>\n",
       "    </tr>\n",
       "  </tbody>\n",
       "</table>\n",
       "</div>"
      ],
      "text/plain": [
       "                age        fnlwgt  education-num  capital-gain  capital-loss  \\\n",
       "count  48842.000000  4.884200e+04   48842.000000  48842.000000  48842.000000   \n",
       "mean      38.643585  1.896641e+05      10.078089   1079.067626     87.502314   \n",
       "std       13.710510  1.056040e+05       2.570973   7452.019058    403.004552   \n",
       "min       17.000000  1.228500e+04       1.000000      0.000000      0.000000   \n",
       "25%       28.000000  1.175505e+05       9.000000      0.000000      0.000000   \n",
       "50%       37.000000  1.781445e+05      10.000000      0.000000      0.000000   \n",
       "75%       48.000000  2.376420e+05      12.000000      0.000000      0.000000   \n",
       "max       90.000000  1.490400e+06      16.000000  99999.000000   4356.000000   \n",
       "\n",
       "       hours-per-week  \n",
       "count    48842.000000  \n",
       "mean        40.422382  \n",
       "std         12.391444  \n",
       "min          1.000000  \n",
       "25%         40.000000  \n",
       "50%         40.000000  \n",
       "75%         45.000000  \n",
       "max         99.000000  "
      ]
     },
     "execution_count": 7,
     "metadata": {},
     "output_type": "execute_result"
    }
   ],
   "source": [
    "# View the Statistics of the Numerical Data\n",
    "adults.describe()"
   ]
  },
  {
   "cell_type": "markdown",
   "metadata": {},
   "source": [
    "Each numerical attribute have very different scales, **feature scaling** is needed."
   ]
  },
  {
   "cell_type": "markdown",
   "metadata": {},
   "source": [
    "## Viewing the Histogram for Each Numerical Attribute"
   ]
  },
  {
   "cell_type": "code",
   "execution_count": 8,
   "metadata": {},
   "outputs": [
    {
     "data": {
      "image/png": "[encoded data removed]",
      "text/plain": [
       "<Figure size 1440x1080 with 6 Axes>"
      ]
     },
     "metadata": {
      "needs_background": "light"
     },
     "output_type": "display_data"
    }
   ],
   "source": [
    "cols = ['age','fnlwgt','education-num','capital-gain','capital-loss', 'hours-per-week']\n",
    "adults.hist(bins = 50, figsize = (20, 15), column = cols)\n",
    "plt.show()"
   ]
  },
  {
   "cell_type": "markdown",
   "metadata": {},
   "source": [
    "Observations:\n",
    "1. Both ***capital-gain*** and ***capital-loss*** are **tail heavy** and the values have been **capped**."
   ]
  },
  {
   "cell_type": "markdown",
   "metadata": {},
   "source": [
    "## Analysis of Categorical Data"
   ]
  },
  {
   "cell_type": "code",
   "execution_count": 9,
   "metadata": {
    "scrolled": false
   },
   "outputs": [
    {
     "name": "stdout",
     "output_type": "stream",
     "text": [
      "Workclass\n",
      "Private             33906\n",
      "Self-emp-not-inc     3862\n",
      "Local-gov            3136\n",
      "State-gov            1981\n",
      "Self-emp-inc         1695\n",
      "Federal-gov          1432\n",
      "Without-pay            21\n",
      "Never-worked           10\n",
      "Name: workclass, dtype: int64 \n",
      "\n",
      "Education\n",
      "HS-grad         15784\n",
      "Some-college    10878\n",
      "Bachelors        8025\n",
      "Masters          2657\n",
      "Assoc-voc        2061\n",
      "11th             1812\n",
      "Assoc-acdm       1601\n",
      "10th             1389\n",
      "7th-8th           955\n",
      "Prof-school       834\n",
      "9th               756\n",
      "12th              657\n",
      "Doctorate         594\n",
      "5th-6th           509\n",
      "1st-4th           247\n",
      "Preschool          83\n",
      "Name: education, dtype: int64 \n",
      "\n",
      "Marital-Status\n",
      "Married-civ-spouse       22379\n",
      "Never-married            16117\n",
      "Divorced                  6633\n",
      "Separated                 1530\n",
      "Widowed                   1518\n",
      "Married-spouse-absent      628\n",
      "Married-AF-spouse           37\n",
      "Name: marital-status, dtype: int64 \n",
      "\n",
      "Occupation\n",
      "Prof-specialty       6172\n",
      "Craft-repair         6112\n",
      "Exec-managerial      6086\n",
      "Adm-clerical         5611\n",
      "Sales                5504\n",
      "Other-service        4923\n",
      "Machine-op-inspct    3022\n",
      "Transport-moving     2355\n",
      "Handlers-cleaners    2072\n",
      "Farming-fishing      1490\n",
      "Tech-support         1446\n",
      "Protective-serv       983\n",
      "Priv-house-serv       242\n",
      "Armed-Forces           15\n",
      "Name: occupation, dtype: int64 \n",
      "\n",
      "Relationship\n",
      "Husband           19716\n",
      "Not-in-family     12583\n",
      "Own-child          7581\n",
      "Unmarried          5125\n",
      "Wife               2331\n",
      "Other-relative     1506\n",
      "Name: relationship, dtype: int64 \n",
      "\n",
      "Race\n",
      "White                 41762\n",
      "Black                  4685\n",
      "Asian-Pac-Islander     1519\n",
      "Amer-Indian-Eskimo      470\n",
      "Other                   406\n",
      "Name: race, dtype: int64 \n",
      "\n",
      "Sex\n",
      "Male      32650\n",
      "Female    16192\n",
      "Name: sex, dtype: int64 \n",
      "\n",
      "Native-Country\n",
      "United-States                 43832\n",
      "Mexico                          951\n",
      "Philippines                     295\n",
      "Germany                         206\n",
      "Puerto-Rico                     184\n",
      "Canada                          182\n",
      "El-Salvador                     155\n",
      "India                           151\n",
      "Cuba                            138\n",
      "England                         127\n",
      "China                           122\n",
      "South                           115\n",
      "Jamaica                         106\n",
      "Italy                           105\n",
      "Dominican-Republic              103\n",
      "Japan                            92\n",
      "Guatemala                        88\n",
      "Poland                           87\n",
      "Vietnam                          86\n",
      "Columbia                         85\n",
      "Haiti                            75\n",
      "Portugal                         67\n",
      "Taiwan                           65\n",
      "Iran                             59\n",
      "Nicaragua                        49\n",
      "Greece                           49\n",
      "Peru                             46\n",
      "Ecuador                          45\n",
      "France                           38\n",
      "Ireland                          37\n",
      "Hong                             30\n",
      "Thailand                         30\n",
      "Cambodia                         28\n",
      "Trinadad&Tobago                  27\n",
      "Outlying-US(Guam-USVI-etc)       23\n",
      "Laos                             23\n",
      "Yugoslavia                       23\n",
      "Scotland                         21\n",
      "Honduras                         20\n",
      "Hungary                          19\n",
      "Holand-Netherlands                1\n",
      "Name: native-country, dtype: int64 \n",
      "\n"
     ]
    }
   ],
   "source": [
    "cat_cols = ['workclass', 'education', 'marital-status', 'occupation',\n",
    "            'relationship', 'race', 'sex', 'native-country']\n",
    "\n",
    "for col in cat_cols:\n",
    "    print(col.title())\n",
    "    print(adults[col].value_counts(),'\\n')"
   ]
  },
  {
   "cell_type": "markdown",
   "metadata": {},
   "source": [
    "We need to perform **one-hot encoding** on the above the columns."
   ]
  },
  {
   "cell_type": "markdown",
   "metadata": {},
   "source": [
    "## Correlation Matrix Between Numerical Attributes"
   ]
  },
  {
   "cell_type": "code",
   "execution_count": 10,
   "metadata": {},
   "outputs": [
    {
     "data": {
      "text/html": [
       "<div>\n",
       "<style scoped>\n",
       "    .dataframe tbody tr th:only-of-type {\n",
       "        vertical-align: middle;\n",
       "    }\n",
       "\n",
       "    .dataframe tbody tr th {\n",
       "        vertical-align: top;\n",
       "    }\n",
       "\n",
       "    .dataframe thead th {\n",
       "        text-align: right;\n",
       "    }\n",
       "</style>\n",
       "<table border=\"1\" class=\"dataframe\">\n",
       "  <thead>\n",
       "    <tr style=\"text-align: right;\">\n",
       "      <th></th>\n",
       "      <th>age</th>\n",
       "      <th>fnlwgt</th>\n",
       "      <th>education-num</th>\n",
       "      <th>capital-gain</th>\n",
       "      <th>capital-loss</th>\n",
       "      <th>hours-per-week</th>\n",
       "    </tr>\n",
       "  </thead>\n",
       "  <tbody>\n",
       "    <tr>\n",
       "      <th>age</th>\n",
       "      <td>1.000000</td>\n",
       "      <td>-0.076628</td>\n",
       "      <td>0.030940</td>\n",
       "      <td>0.077229</td>\n",
       "      <td>0.056944</td>\n",
       "      <td>0.071558</td>\n",
       "    </tr>\n",
       "    <tr>\n",
       "      <th>fnlwgt</th>\n",
       "      <td>-0.076628</td>\n",
       "      <td>1.000000</td>\n",
       "      <td>-0.038761</td>\n",
       "      <td>-0.003706</td>\n",
       "      <td>-0.004366</td>\n",
       "      <td>-0.013519</td>\n",
       "    </tr>\n",
       "    <tr>\n",
       "      <th>education-num</th>\n",
       "      <td>0.030940</td>\n",
       "      <td>-0.038761</td>\n",
       "      <td>1.000000</td>\n",
       "      <td>0.125146</td>\n",
       "      <td>0.080972</td>\n",
       "      <td>0.143689</td>\n",
       "    </tr>\n",
       "    <tr>\n",
       "      <th>capital-gain</th>\n",
       "      <td>0.077229</td>\n",
       "      <td>-0.003706</td>\n",
       "      <td>0.125146</td>\n",
       "      <td>1.000000</td>\n",
       "      <td>-0.031441</td>\n",
       "      <td>0.082157</td>\n",
       "    </tr>\n",
       "    <tr>\n",
       "      <th>capital-loss</th>\n",
       "      <td>0.056944</td>\n",
       "      <td>-0.004366</td>\n",
       "      <td>0.080972</td>\n",
       "      <td>-0.031441</td>\n",
       "      <td>1.000000</td>\n",
       "      <td>0.054467</td>\n",
       "    </tr>\n",
       "    <tr>\n",
       "      <th>hours-per-week</th>\n",
       "      <td>0.071558</td>\n",
       "      <td>-0.013519</td>\n",
       "      <td>0.143689</td>\n",
       "      <td>0.082157</td>\n",
       "      <td>0.054467</td>\n",
       "      <td>1.000000</td>\n",
       "    </tr>\n",
       "  </tbody>\n",
       "</table>\n",
       "</div>"
      ],
      "text/plain": [
       "                     age    fnlwgt  education-num  capital-gain  capital-loss  \\\n",
       "age             1.000000 -0.076628       0.030940      0.077229      0.056944   \n",
       "fnlwgt         -0.076628  1.000000      -0.038761     -0.003706     -0.004366   \n",
       "education-num   0.030940 -0.038761       1.000000      0.125146      0.080972   \n",
       "capital-gain    0.077229 -0.003706       0.125146      1.000000     -0.031441   \n",
       "capital-loss    0.056944 -0.004366       0.080972     -0.031441      1.000000   \n",
       "hours-per-week  0.071558 -0.013519       0.143689      0.082157      0.054467   \n",
       "\n",
       "                hours-per-week  \n",
       "age                   0.071558  \n",
       "fnlwgt               -0.013519  \n",
       "education-num         0.143689  \n",
       "capital-gain          0.082157  \n",
       "capital-loss          0.054467  \n",
       "hours-per-week        1.000000  "
      ]
     },
     "execution_count": 10,
     "metadata": {},
     "output_type": "execute_result"
    }
   ],
   "source": [
    "adults_corr = adults.corr()\n",
    "adults_corr"
   ]
  },
  {
   "cell_type": "markdown",
   "metadata": {},
   "source": [
    "## Heatmap of the Correlation"
   ]
  },
  {
   "cell_type": "code",
   "execution_count": 11,
   "metadata": {},
   "outputs": [
    {
     "data": {
      "image/png": "[encoded data removed]",
      "text/plain": [
       "<Figure size 792x792 with 2 Axes>"
      ]
     },
     "metadata": {
      "needs_background": "light"
     },
     "output_type": "display_data"
    }
   ],
   "source": [
    "plt.figure(figsize = (11, 11))\n",
    "g = sns.heatmap(adults_corr, annot = True, cmap = 'RdYlGn')"
   ]
  },
  {
   "cell_type": "markdown",
   "metadata": {},
   "source": [
    "Observations: \n",
    "1. The numerical attributes are **not linearly correlated**, which is a **good** thing."
   ]
  },
  {
   "cell_type": "markdown",
   "metadata": {},
   "source": [
    "# Data Prepocessing"
   ]
  },
  {
   "cell_type": "markdown",
   "metadata": {},
   "source": [
    "## Dealing the Missing Values"
   ]
  },
  {
   "cell_type": "code",
   "execution_count": 12,
   "metadata": {},
   "outputs": [
    {
     "name": "stdout",
     "output_type": "stream",
     "text": [
      "Percentage of missing values for workclass      : 6.079%\n",
      "Percentage of missing values for occupation     : 6.102%\n",
      "Percentage of missing values for native-country : 1.786%\n"
     ]
    }
   ],
   "source": [
    "# workclass, occupation, native-country are columns with missing values\n",
    "\n",
    "print('Percentage of missing values for workclass      : {:.3f}%'.format(\n",
    "    adults['workclass'].isnull().sum() / adults['workclass'].count() * 100))\n",
    "print('Percentage of missing values for occupation     : {:.3f}%'.format(\n",
    "    adults['occupation'].isnull().sum() / adults['occupation'].count() * 100))\n",
    "print('Percentage of missing values for native-country : {:.3f}%'.format(\n",
    "    adults['native-country'].isnull().sum() / adults['native-country'].count() * 100))"
   ]
  },
  {
   "cell_type": "markdown",
   "metadata": {},
   "source": [
    "Since the percentage of the missing values are all less than 10%, we will choose to **drop** rows with missing values."
   ]
  },
  {
   "cell_type": "code",
   "execution_count": 13,
   "metadata": {},
   "outputs": [
    {
     "name": "stdout",
     "output_type": "stream",
     "text": [
      "age               0\n",
      "workclass         0\n",
      "fnlwgt            0\n",
      "education         0\n",
      "education-num     0\n",
      "marital-status    0\n",
      "occupation        0\n",
      "relationship      0\n",
      "race              0\n",
      "sex               0\n",
      "capital-gain      0\n",
      "capital-loss      0\n",
      "hours-per-week    0\n",
      "native-country    0\n",
      "income            0\n",
      "dtype: int64\n",
      "\n",
      "Total Number of Rows Dropped: 3620\n"
     ]
    }
   ],
   "source": [
    "adults_noNA = adults.dropna()\n",
    "\n",
    "print(adults_noNA.isnull().sum())\n",
    "print('\\nTotal Number of Rows Dropped: ' + str(adults.shape[0] - adults_noNA.shape[0]))"
   ]
  },
  {
   "cell_type": "markdown",
   "metadata": {},
   "source": [
    "## Splitting Dataset into Training and Testing Set"
   ]
  },
  {
   "cell_type": "markdown",
   "metadata": {},
   "source": [
    "The dataset will be split into X (features) and y (output label)"
   ]
  },
  {
   "cell_type": "code",
   "execution_count": 14,
   "metadata": {},
   "outputs": [
    {
     "name": "stdout",
     "output_type": "stream",
     "text": [
      "Shape of original dataset, adults: (48842, 15)\n",
      "Shape of X: (68028, 14) type = <class 'pandas.core.frame.DataFrame'>\n",
      "Shape of y: (68028,)    type = <class 'pandas.core.series.Series'>\n"
     ]
    }
   ],
   "source": [
    "# Drop the income column\n",
    "X_pre = adults_noNA.drop('income', axis = 1)\n",
    "y_pre = adults_noNA['income']\n",
    "\n",
    "# Balance the dataset using SMOTETENC\n",
    "smc = SMOTENC(random_state = 42, categorical_features = [1, 3, 5, 6, 7, 8, 9, 13])\n",
    "X, y = smc.fit_resample(X_pre, y_pre)\n",
    "\n",
    "# Viewing the dataset\n",
    "print('Shape of original dataset, adults:', adults.shape)\n",
    "print('Shape of X:', X.shape, 'type =', type(X))\n",
    "print('Shape of y:', y.shape, '   type =', type(y))"
   ]
  },
  {
   "cell_type": "markdown",
   "metadata": {},
   "source": [
    "Viewing the Distribution of The Output Vector"
   ]
  },
  {
   "cell_type": "code",
   "execution_count": 15,
   "metadata": {},
   "outputs": [
    {
     "name": "stdout",
     "output_type": "stream",
     "text": [
      "<=50K    34014\n",
      ">50K     34014\n",
      "Name: income, dtype: int64 \n",
      "\n"
     ]
    },
    {
     "data": {
      "image/png": "[encoded data removed]",
      "text/plain": [
       "<Figure size 432x288 with 1 Axes>"
      ]
     },
     "metadata": {
      "needs_background": "light"
     },
     "output_type": "display_data"
    }
   ],
   "source": [
    "print(y.value_counts(), '\\n')\n",
    "\n",
    "y.hist()\n",
    "plt.show()"
   ]
  },
  {
   "cell_type": "markdown",
   "metadata": {},
   "source": [
    "The output set has been balanced through oversampling\n",
    "\n",
    "Now we split X and y into the training set and the testing set"
   ]
  },
  {
   "cell_type": "code",
   "execution_count": 16,
   "metadata": {},
   "outputs": [
    {
     "name": "stdout",
     "output_type": "stream",
     "text": [
      "Shape of the original X: (68028, 14)\n",
      "Shape of X_train: (54422, 14)  y_train: (54422,)\n",
      "Shape of X_test : (13606, 14)  y_train: (13606,)\n"
     ]
    }
   ],
   "source": [
    "# Use train_test_split to split into 80% training and 20% testing\n",
    "X_train, X_test, y_train, y_test = train_test_split(X, y, test_size = 0.2, random_state = 42, shuffle = True)\n",
    "\n",
    "print('Shape of the original X:', X.shape)\n",
    "print('Shape of X_train:' , X_train.shape, ' y_train:',y_train.shape)\n",
    "print('Shape of X_test :' , X_test.shape, ' y_train:',y_test.shape)"
   ]
  },
  {
   "cell_type": "markdown",
   "metadata": {},
   "source": [
    "Now we split X_train into categorical and numerical sets"
   ]
  },
  {
   "cell_type": "code",
   "execution_count": 17,
   "metadata": {},
   "outputs": [
    {
     "name": "stdout",
     "output_type": "stream",
     "text": [
      "Shape of X_train_num: (54422, 6)\n",
      "Shape of X_train_cat: (54422, 8)\n"
     ]
    }
   ],
   "source": [
    "cat_col = ['workclass', 'education', 'marital-status', 'occupation', 'relationship', 'race', 'sex', 'native-country']\n",
    "\n",
    "X_train_num = X_train.drop(cat_col, axis = 1)\n",
    "X_train_cat = X_train[cat_col]\n",
    "\n",
    "print('Shape of X_train_num:', X_train_num.shape)\n",
    "print('Shape of X_train_cat:', X_train_cat.shape)"
   ]
  },
  {
   "cell_type": "markdown",
   "metadata": {},
   "source": [
    "## Normalization"
   ]
  },
  {
   "cell_type": "markdown",
   "metadata": {},
   "source": [
    "As mentioned in Data Analysis, **Standardization** needs to be performed as the attributes have very different scales\n",
    "\n",
    "We will make use of StandardScaler(), which is provided by sklearn"
   ]
  },
  {
   "cell_type": "code",
   "execution_count": 18,
   "metadata": {},
   "outputs": [
    {
     "name": "stdout",
     "output_type": "stream",
     "text": [
      "[-1.49362554e-16 -4.23019820e-17 -1.01315858e-16 -6.52808364e-18\n",
      " -1.04449338e-18  8.34289089e-17]\n",
      "[1. 1. 1. 1. 1. 1.]\n"
     ]
    }
   ],
   "source": [
    "scaler = StandardScaler()\n",
    "\n",
    "X_train_num_tr = scaler.fit_transform(X_train_num)\n",
    "\n",
    "print(X_train_num_tr.mean (axis = 0))\n",
    "print(X_train_num_tr.std (axis = 0))"
   ]
  },
  {
   "cell_type": "markdown",
   "metadata": {},
   "source": [
    "## One-hot Encoding"
   ]
  },
  {
   "cell_type": "markdown",
   "metadata": {},
   "source": [
    "`OneHotEncoder` will be used to transform the categorical data"
   ]
  },
  {
   "cell_type": "code",
   "execution_count": 19,
   "metadata": {},
   "outputs": [
    {
     "name": "stdout",
     "output_type": "stream",
     "text": [
      "Number of features after One-Hot Encoding: 98\n"
     ]
    }
   ],
   "source": [
    "encoder = OneHotEncoder(sparse = False)\n",
    "\n",
    "X_train_cat_tr_lb = encoder.fit_transform(X_train_cat)\n",
    "\n",
    "print(\"Number of features after One-Hot Encoding:\", X_train_cat_tr_lb.shape[1])"
   ]
  },
  {
   "cell_type": "markdown",
   "metadata": {},
   "source": [
    "Finalizing the training set"
   ]
  },
  {
   "cell_type": "code",
   "execution_count": 20,
   "metadata": {},
   "outputs": [
    {
     "name": "stdout",
     "output_type": "stream",
     "text": [
      "Shape of complete training set: (54422, 104)\n"
     ]
    }
   ],
   "source": [
    "X_train_complete = np.hstack([X_train_num_tr, X_train_cat_tr_lb])\n",
    "\n",
    "print('Shape of complete training set:', X_train_complete.shape)"
   ]
  },
  {
   "cell_type": "markdown",
   "metadata": {},
   "source": [
    "## Changing y_train into a Boolean Vector"
   ]
  },
  {
   "cell_type": "code",
   "execution_count": 21,
   "metadata": {},
   "outputs": [],
   "source": [
    "y_train_more50K = (y_train == '>50K')"
   ]
  },
  {
   "cell_type": "markdown",
   "metadata": {},
   "source": [
    "# Performing Classification"
   ]
  },
  {
   "cell_type": "markdown",
   "metadata": {},
   "source": [
    "## Model Selection"
   ]
  },
  {
   "cell_type": "markdown",
   "metadata": {},
   "source": [
    "We have chosen the following machine learning algorithms for our **Binary Classification** task:\n",
    "1. Stochastic Gradient Descent Classfier\n",
    "2. Logistic Regression\n",
    "3. Linear Discriminant Analysis\n",
    "4. AdaBoostClassifier\n",
    "\n",
    "**Linear Discriminant Analysis and AdaBoostClassifier** are classifiers that were not taught in the syllabus. We have implemented these classifiers in this assignment as an effort of self learning"
   ]
  },
  {
   "cell_type": "markdown",
   "metadata": {},
   "source": [
    "## Stochastic Gradient Descent Classifier"
   ]
  },
  {
   "cell_type": "code",
   "execution_count": 22,
   "metadata": {},
   "outputs": [
    {
     "name": "stdout",
     "output_type": "stream",
     "text": [
      "Training accuracy: 0.8528\n"
     ]
    }
   ],
   "source": [
    "sgd_clf = SGDClassifier(random_state = 42, max_iter = 5000, tol = None)\n",
    "sgd_clf.fit(X_train_complete, y_train_more50K)\n",
    "sgd_pred = sgd_clf.predict(X_train_complete)\n",
    "\n",
    "sgd_train_acc = accuracy_score(y_train_more50K, sgd_pred)\n",
    "\n",
    "print(\"Training accuracy: {:.4f}\".format(sgd_train_acc))"
   ]
  },
  {
   "cell_type": "markdown",
   "metadata": {},
   "source": [
    "## Logistic Regression"
   ]
  },
  {
   "cell_type": "code",
   "execution_count": 23,
   "metadata": {},
   "outputs": [
    {
     "name": "stdout",
     "output_type": "stream",
     "text": [
      "Training accuracy: 0.8662\n"
     ]
    }
   ],
   "source": [
    "lr_clf = LogisticRegression(random_state = 42, max_iter = 5000)\n",
    "lr_clf.fit(X_train_complete, y_train_more50K)\n",
    "lr_pred = lr_clf.predict(X_train_complete)\n",
    "\n",
    "lr_train_acc = accuracy_score(y_train_more50K, lr_pred)\n",
    "\n",
    "print(\"Training accuracy: {:.4f}\".format(lr_train_acc))"
   ]
  },
  {
   "cell_type": "markdown",
   "metadata": {},
   "source": [
    "## Linear Discriminant Analysis"
   ]
  },
  {
   "cell_type": "code",
   "execution_count": 24,
   "metadata": {},
   "outputs": [
    {
     "name": "stdout",
     "output_type": "stream",
     "text": [
      "Training accuracy: 0.8498\n"
     ]
    }
   ],
   "source": [
    "lda_clf = LinearDiscriminantAnalysis()\n",
    "lda_clf.fit(X_train_complete, y_train_more50K)\n",
    "lda_pred = lda_clf.predict(X_train_complete)\n",
    "\n",
    "lda_train_acc = accuracy_score(y_train_more50K, lda_pred)\n",
    "\n",
    "print(\"Training accuracy: {:.4f}\".format(lda_train_acc))"
   ]
  },
  {
   "cell_type": "markdown",
   "metadata": {},
   "source": [
    "## AdaBoostClassifier"
   ]
  },
  {
   "cell_type": "code",
   "execution_count": 25,
   "metadata": {},
   "outputs": [
    {
     "name": "stdout",
     "output_type": "stream",
     "text": [
      "Training accuracy: 0.8735\n"
     ]
    }
   ],
   "source": [
    "ada_clf = AdaBoostClassifier(random_state = 42)\n",
    "ada_clf.fit(X_train_complete, y_train_more50K)\n",
    "ada_pred = ada_clf.predict(X_train_complete)\n",
    "\n",
    "ada_train_acc = accuracy_score(y_train_more50K, ada_pred)\n",
    "\n",
    "print(\"Training accuracy: {:.4f}\".format(ada_train_acc))"
   ]
  },
  {
   "cell_type": "markdown",
   "metadata": {},
   "source": [
    "## Evaluation of Models using Cross-Validation"
   ]
  },
  {
   "cell_type": "markdown",
   "metadata": {},
   "source": [
    "We will try to detect overfitting through cross-validation"
   ]
  },
  {
   "cell_type": "code",
   "execution_count": 26,
   "metadata": {},
   "outputs": [],
   "source": [
    "SGD_k_scores = cross_val_score(sgd_clf, X_train_complete, y_train_more50K, cv = 5, scoring = 'accuracy')\n",
    "LR_k_scores  = cross_val_score(lr_clf , X_train_complete, y_train_more50K, cv = 5, scoring = 'accuracy')\n",
    "LDA_k_scores = cross_val_score(lda_clf, X_train_complete, y_train_more50K, cv = 5, scoring = 'accuracy')\n",
    "ADA_k_scores = cross_val_score(ada_clf, X_train_complete, y_train_more50K, cv = 5, scoring = 'accuracy')"
   ]
  },
  {
   "cell_type": "markdown",
   "metadata": {},
   "source": [
    "Now we will print the scores"
   ]
  },
  {
   "cell_type": "code",
   "execution_count": 27,
   "metadata": {},
   "outputs": [
    {
     "name": "stdout",
     "output_type": "stream",
     "text": [
      "SGD k-scores:   [0.85346808 0.85447864 0.84959574 0.84987137 0.85483278]\n",
      "LR  k-scores:   [0.86596233 0.86550299 0.86236678 0.86503124 0.86778758]\n",
      "LDA k-scores:   [0.84391364 0.84685347 0.84812569 0.85088203 0.85667034]\n",
      "ADA k-scores:   [0.87101516 0.87322003 0.86889011 0.87274899 0.87826167]\n",
      "\n",
      "\n",
      "Mean k-scores for SGD: 0.8524\n",
      "Mean k-scores for LR : 0.8653\n",
      "Mean k-scores for LDA: 0.8493\n",
      "Mean k-scores for ADA: 0.8728\n"
     ]
    }
   ],
   "source": [
    "print('SGD k-scores:'.ljust(15, ' '), SGD_k_scores)\n",
    "print('LR  k-scores:'.ljust(15, ' '), LR_k_scores)\n",
    "print('LDA k-scores:'.ljust(15, ' '), LDA_k_scores)\n",
    "print('ADA k-scores:'.ljust(15, ' '), ADA_k_scores)\n",
    "\n",
    "print('\\n')\n",
    "\n",
    "print(\"Mean k-scores for SGD: {:.4f}\".format(SGD_k_scores.mean()))\n",
    "print(\"Mean k-scores for LR : {:.4f}\".format(LR_k_scores.mean()))\n",
    "print(\"Mean k-scores for LDA: {:.4f}\".format(LDA_k_scores.mean()))\n",
    "print(\"Mean k-scores for ADA: {:.4f}\".format(ADA_k_scores.mean()))"
   ]
  },
  {
   "cell_type": "markdown",
   "metadata": {},
   "source": [
    "## Summary of Models"
   ]
  },
  {
   "cell_type": "markdown",
   "metadata": {},
   "source": [
    "| Evaluation Set | SGD | LR | LDA | ADA |\n",
    "|----------------|-----|----|-----|-----|\n",
    "| Training Set   |0.8528|0.8662|0.8498|0.8735|\n",
    "| Validation Set |0.8524|0.8653|0.8493|0.8728|"
   ]
  },
  {
   "cell_type": "markdown",
   "metadata": {},
   "source": [
    "Discussion:\n",
    "\n",
    "1. The performance of the models are not too bad, there is no serious underfitting / overfitting"
   ]
  },
  {
   "cell_type": "markdown",
   "metadata": {},
   "source": [
    "# Model Validation and Result Visualization"
   ]
  },
  {
   "cell_type": "markdown",
   "metadata": {},
   "source": [
    "## Computation of Cross-Validated Prediction"
   ]
  },
  {
   "cell_type": "code",
   "execution_count": 28,
   "metadata": {},
   "outputs": [],
   "source": [
    "sgd_pred = cross_val_predict(sgd_clf, X_train_complete, y_train_more50K, cv = 5)\n",
    "lr_pred  = cross_val_predict( lr_clf, X_train_complete, y_train_more50K, cv = 5)\n",
    "lda_pred = cross_val_predict(lda_clf, X_train_complete, y_train_more50K, cv = 5)\n",
    "ada_pred = cross_val_predict(ada_clf, X_train_complete, y_train_more50K, cv = 5)"
   ]
  },
  {
   "cell_type": "markdown",
   "metadata": {},
   "source": [
    "## Computation of Confusion Matrix"
   ]
  },
  {
   "cell_type": "code",
   "execution_count": 29,
   "metadata": {},
   "outputs": [
    {
     "name": "stdout",
     "output_type": "stream",
     "text": [
      "Confusion matrix for SGD :\n",
      " [[21717  5467]\n",
      " [ 2563 24675]]\n",
      "Confusion matrix for LR  :\n",
      " [[22622  4562]\n",
      " [ 2767 24471]]\n",
      "Confusion matrix for LDA :\n",
      " [[21411  5773]\n",
      " [ 2429 24809]]\n",
      "Confusion matrix for ADA :\n",
      " [[22992  4192]\n",
      " [ 2729 24509]]\n"
     ]
    }
   ],
   "source": [
    "cm_sgd = confusion_matrix(y_train_more50K, sgd_pred)\n",
    "cm_lr  = confusion_matrix(y_train_more50K, lr_pred)\n",
    "cm_lda = confusion_matrix(y_train_more50K, lda_pred)\n",
    "cm_ada = confusion_matrix(y_train_more50K, ada_pred)\n",
    "\n",
    "print('Confusion matrix for SGD :\\n', cm_sgd)\n",
    "print('Confusion matrix for LR  :\\n', cm_lr )\n",
    "print('Confusion matrix for LDA :\\n', cm_lda)\n",
    "print('Confusion matrix for ADA :\\n', cm_ada)"
   ]
  },
  {
   "cell_type": "markdown",
   "metadata": {},
   "source": [
    "The performance of each model is quite consistent"
   ]
  },
  {
   "cell_type": "markdown",
   "metadata": {},
   "source": [
    "## Calculation of Precision, Recall and F1 Score for Each Model"
   ]
  },
  {
   "cell_type": "code",
   "execution_count": 30,
   "metadata": {},
   "outputs": [
    {
     "name": "stdout",
     "output_type": "stream",
     "text": [
      "precision for SGD = 0.818625174175569\n",
      "recall for SGD    = 0.9059035171451648\n",
      "f1 score for SGD  = 0.860055768560474\n",
      "\n",
      "\n",
      "precision for LR  = 0.8428684600282437\n",
      "recall for LR     = 0.8984139804684632\n",
      "f1 score for LR   = 0.869755291357893\n",
      "\n",
      "\n",
      "precision for LDA = 0.8112288274148192\n",
      "recall for LDA    = 0.9108231147661355\n",
      "f1 score for LDA  = 0.8581459702525078\n",
      "\n",
      "\n",
      "precision for ADA = 0.8539423713459461\n",
      "recall for ADA    = 0.8998090902415743\n",
      "f1 score for ADA  = 0.8762759434383881\n"
     ]
    }
   ],
   "source": [
    "# SGD Scores\n",
    "print('precision for SGD =', precision_score(y_train_more50K, sgd_pred))\n",
    "print('recall for SGD    =', recall_score(y_train_more50K, sgd_pred))\n",
    "print('f1 score for SGD  =', f1_score(y_train_more50K, sgd_pred))\n",
    "\n",
    "# LR Scores\n",
    "print('\\n')\n",
    "print('precision for LR  =', precision_score(y_train_more50K, lr_pred))\n",
    "print('recall for LR     =', recall_score(y_train_more50K, lr_pred))\n",
    "print('f1 score for LR   =', f1_score(y_train_more50K, lr_pred))\n",
    "\n",
    "# LDA Scores\n",
    "print('\\n')\n",
    "print('precision for LDA =', precision_score(y_train_more50K, lda_pred))\n",
    "print('recall for LDA    =', recall_score(y_train_more50K, lda_pred))\n",
    "print('f1 score for LDA  =', f1_score(y_train_more50K, lda_pred))\n",
    "\n",
    "# ADA Scores\n",
    "print('\\n')\n",
    "print('precision for ADA =', precision_score(y_train_more50K, ada_pred))\n",
    "print('recall for ADA    =', recall_score(y_train_more50K, ada_pred))\n",
    "print('f1 score for ADA  =', f1_score(y_train_more50K, ada_pred))"
   ]
  },
  {
   "cell_type": "markdown",
   "metadata": {},
   "source": [
    "## Plotting the PR Curve"
   ]
  },
  {
   "cell_type": "markdown",
   "metadata": {},
   "source": [
    "We retrieve the average cross-validated scores for all samples using `cross_val_predict()` with the added parameter `method=\"decision_function\"`"
   ]
  },
  {
   "cell_type": "code",
   "execution_count": 31,
   "metadata": {},
   "outputs": [],
   "source": [
    "sgd_pred_cv = cross_val_predict(sgd_clf, X_train_complete, y_train_more50K, cv = 5, method = \"decision_function\")\n",
    "lr_pred_cv  = cross_val_predict( lr_clf, X_train_complete, y_train_more50K, cv = 5, method = \"decision_function\")\n",
    "lda_pred_cv = cross_val_predict(lda_clf, X_train_complete, y_train_more50K, cv = 5, method = \"decision_function\")\n",
    "ada_pred_cv = cross_val_predict(ada_clf, X_train_complete, y_train_more50K, cv = 5, method = \"decision_function\")"
   ]
  },
  {
   "cell_type": "markdown",
   "metadata": {},
   "source": [
    "Now we compute the precision and recall scores at different threshold values using `precision_recall_curve()`"
   ]
  },
  {
   "cell_type": "code",
   "execution_count": 32,
   "metadata": {},
   "outputs": [],
   "source": [
    "sgd_pr, sgd_rc, sgd_thres = precision_recall_curve(y_train_more50K, sgd_pred_cv)\n",
    "lr_pr, lr_rc, lr_thres    = precision_recall_curve(y_train_more50K,  lr_pred_cv)\n",
    "lda_pr, lda_rc, lda_thres = precision_recall_curve(y_train_more50K, lda_pred_cv)\n",
    "ada_pr, ada_rc, ada_thres = precision_recall_curve(y_train_more50K, ada_pred_cv)"
   ]
  },
  {
   "cell_type": "markdown",
   "metadata": {},
   "source": [
    "Now we plot the PR Curves for each model"
   ]
  },
  {
   "cell_type": "code",
   "execution_count": 33,
   "metadata": {},
   "outputs": [
    {
     "data": {
      "image/png": "[encoded data removed]",
      "text/plain": [
       "<Figure size 864x576 with 1 Axes>"
      ]
     },
     "metadata": {
      "needs_background": "light"
     },
     "output_type": "display_data"
    }
   ],
   "source": [
    "plt.figure(figsize = (12, 8))\n",
    "\n",
    "plt.plot(sgd_rc, sgd_pr, 'r-', linewidth = 3, label = 'SGD')\n",
    "plt.plot( lr_rc,  lr_pr, 'g-', linewidth = 3, label = 'LR')\n",
    "plt.plot(lda_rc, lda_pr, 'b-', linewidth = 3, label = 'LDA')\n",
    "plt.plot(ada_rc, ada_pr, 'y-', linewidth = 3, label = 'ADA')\n",
    "plt.plot(np.linspace(0,1,20), np.linspace(1,0.5,20), '--')\n",
    "\n",
    "plt.legend(loc = 'best', fontsize = 20)\n",
    "plt.title('Precision - Recall Graph (4 Models)', fontsize = 20)\n",
    "\n",
    "plt.axis([0,1,0.5,1])\n",
    "\n",
    "plt.xlabel('Recall', fontsize = 16)\n",
    "plt.ylabel('Precision', fontsize = 16)\n",
    "\n",
    "plt.show()"
   ]
  },
  {
   "cell_type": "markdown",
   "metadata": {},
   "source": [
    "## Extraction of Desired Threshold Value"
   ]
  },
  {
   "cell_type": "markdown",
   "metadata": {},
   "source": [
    "Suppose we want a target threshold that will give us higher precision ( > 0.9) and have a slightly lower recall of (0.6 < x < 0.7)."
   ]
  },
  {
   "cell_type": "markdown",
   "metadata": {},
   "source": [
    "### SGD Preferred Threshold"
   ]
  },
  {
   "cell_type": "code",
   "execution_count": 34,
   "metadata": {},
   "outputs": [
    {
     "name": "stdout",
     "output_type": "stream",
     "text": [
      "0.9690030228885469\n",
      "0.9000263550909251\n",
      "0.752257875027535\n"
     ]
    }
   ],
   "source": [
    "idx = np.argmax(sgd_pr >= 0.9)\n",
    "sel_thres = sgd_thres[idx]\n",
    "\n",
    "print(sel_thres)\n",
    "print(sgd_pr[idx])\n",
    "print(sgd_rc[idx])"
   ]
  },
  {
   "cell_type": "code",
   "execution_count": 35,
   "metadata": {},
   "outputs": [
    {
     "name": "stdout",
     "output_type": "stream",
     "text": [
      "precision = 0.945055\n",
      "recall    = 0.788991\n"
     ]
    }
   ],
   "source": [
    "samples = X_train_complete[:200]\n",
    "samples_label = y_train_more50K[:200]\n",
    "\n",
    "scores = sgd_clf.decision_function(samples)\n",
    "\n",
    "predictions = (scores > sel_thres)\n",
    "\n",
    "print('precision = {:.6f}'.format(precision_score(samples_label, predictions)))\n",
    "print('recall    = {:.6f}'.format(recall_score(samples_label, predictions)))"
   ]
  },
  {
   "cell_type": "markdown",
   "metadata": {},
   "source": [
    "### LR Preferred Threshold"
   ]
  },
  {
   "cell_type": "code",
   "execution_count": 36,
   "metadata": {},
   "outputs": [
    {
     "name": "stdout",
     "output_type": "stream",
     "text": [
      "0.8719121927402194\n",
      "0.9000171939477304\n",
      "0.7687054849842132\n"
     ]
    }
   ],
   "source": [
    "idx = np.argmax(lr_pr >= 0.9)\n",
    "sel_thres = lr_thres[idx]\n",
    "\n",
    "print(sel_thres)\n",
    "print(lr_pr[idx])\n",
    "print(lr_rc[idx])"
   ]
  },
  {
   "cell_type": "code",
   "execution_count": 37,
   "metadata": {},
   "outputs": [
    {
     "name": "stdout",
     "output_type": "stream",
     "text": [
      "precision = 0.905263\n",
      "recall    = 0.788991\n"
     ]
    }
   ],
   "source": [
    "samples = X_train_complete[:200]\n",
    "samples_label = y_train_more50K[:200]\n",
    "\n",
    "scores = lr_clf.decision_function(samples)\n",
    "\n",
    "predictions = (scores > sel_thres)\n",
    "\n",
    "print('precision = {:.6f}'.format(precision_score(samples_label, predictions)))\n",
    "print('recall    = {:.6f}'.format(recall_score(samples_label, predictions)))"
   ]
  },
  {
   "cell_type": "markdown",
   "metadata": {},
   "source": [
    "### LDA Preferred Threshold"
   ]
  },
  {
   "cell_type": "code",
   "execution_count": 38,
   "metadata": {},
   "outputs": [
    {
     "name": "stdout",
     "output_type": "stream",
     "text": [
      "1.5308838292807332\n",
      "0.9000182033312096\n",
      "0.726081210074161\n"
     ]
    }
   ],
   "source": [
    "idx = np.argmax(lda_pr >= 0.9)\n",
    "sel_thres = lda_thres[idx]\n",
    "\n",
    "print(sel_thres)\n",
    "print(lda_pr[idx])\n",
    "print(lda_rc[idx])"
   ]
  },
  {
   "cell_type": "code",
   "execution_count": 39,
   "metadata": {},
   "outputs": [
    {
     "name": "stdout",
     "output_type": "stream",
     "text": [
      "precision = 0.891304\n",
      "recall    = 0.752294\n"
     ]
    }
   ],
   "source": [
    "samples = X_train_complete[:200]\n",
    "samples_label = y_train_more50K[:200]\n",
    "\n",
    "scores = lda_clf.decision_function(samples)\n",
    "\n",
    "predictions = (scores > sel_thres)\n",
    "\n",
    "print('precision = {:.6f}'.format(precision_score(samples_label, predictions)))\n",
    "print('recall    = {:.6f}'.format(recall_score(samples_label, predictions)))"
   ]
  },
  {
   "cell_type": "markdown",
   "metadata": {},
   "source": [
    "### ADA Preferred Threshold"
   ]
  },
  {
   "cell_type": "code",
   "execution_count": 40,
   "metadata": {},
   "outputs": [
    {
     "name": "stdout",
     "output_type": "stream",
     "text": [
      "0.01349947733166057\n",
      "0.900008031483415\n",
      "0.822821058814891\n"
     ]
    }
   ],
   "source": [
    "idx = np.argmax(ada_pr >= 0.9)\n",
    "sel_thres = ada_thres[idx]\n",
    "\n",
    "print(sel_thres)\n",
    "print(ada_pr[idx])\n",
    "print(ada_rc[idx])"
   ]
  },
  {
   "cell_type": "code",
   "execution_count": 41,
   "metadata": {},
   "outputs": [
    {
     "name": "stdout",
     "output_type": "stream",
     "text": [
      "precision = 0.895238\n",
      "recall    = 0.862385\n"
     ]
    }
   ],
   "source": [
    "samples = X_train_complete[:200]\n",
    "samples_label = y_train_more50K[:200]\n",
    "\n",
    "scores = ada_clf.decision_function(samples)\n",
    "\n",
    "predictions = (scores > sel_thres)\n",
    "\n",
    "print('precision = {:.6f}'.format(precision_score(samples_label, predictions)))\n",
    "print('recall    = {:.6f}'.format(recall_score(samples_label, predictions)))"
   ]
  },
  {
   "cell_type": "markdown",
   "metadata": {},
   "source": [
    "## Plotting the ROC Curve"
   ]
  },
  {
   "cell_type": "code",
   "execution_count": 42,
   "metadata": {},
   "outputs": [],
   "source": [
    "sgd_fpr, sgd_tpr, sgd_thres = roc_curve(y_train_more50K, sgd_pred_cv)\n",
    "lr_fpr, lr_tpr, lr_thres    = roc_curve(y_train_more50K,  lr_pred_cv)\n",
    "lda_fpr, lda_tpr, lda_thres = roc_curve(y_train_more50K, lda_pred_cv)\n",
    "ada_fpr, ada_tpr, ada_thres = roc_curve(y_train_more50K, ada_pred_cv)"
   ]
  },
  {
   "cell_type": "code",
   "execution_count": 43,
   "metadata": {},
   "outputs": [
    {
     "data": {
      "image/png": "[encoded data removed]",
      "text/plain": [
       "<Figure size 864x576 with 1 Axes>"
      ]
     },
     "metadata": {
      "needs_background": "light"
     },
     "output_type": "display_data"
    }
   ],
   "source": [
    "plt.figure(figsize = (12, 8))\n",
    "\n",
    "plt.plot(sgd_fpr, sgd_tpr, 'r-', linewidth = 4, label = 'SGD')\n",
    "plt.plot(lr_fpr ,  lr_tpr, 'g-', linewidth = 4, label = 'LR')\n",
    "plt.plot(lda_fpr, lda_tpr, 'b-', linewidth = 4, label = 'LDA')\n",
    "plt.plot(ada_fpr, ada_tpr, 'y-', linewidth = 4, label = 'ADA')\n",
    "\n",
    "plt.plot([0,1],[0,1], '--')\n",
    "\n",
    "plt.legend(loc = 'best', fontsize = 20)\n",
    "plt.title('ROC Curves (3 Models)', fontsize = 20)\n",
    "\n",
    "plt.axis([0,1,0,1])\n",
    "\n",
    "plt.xlabel('False Positive Rate', fontsize = 16)\n",
    "plt.ylabel('True Positive Rate', fontsize = 16)\n",
    "\n",
    "plt.show()"
   ]
  },
  {
   "cell_type": "markdown",
   "metadata": {},
   "source": [
    "## AUC"
   ]
  },
  {
   "cell_type": "code",
   "execution_count": 44,
   "metadata": {},
   "outputs": [
    {
     "name": "stdout",
     "output_type": "stream",
     "text": [
      "SGD (AUC) = 0.9289\n",
      "LR  (AUC) = 0.9378\n",
      "LDA (AUC) = 0.9271\n",
      "ADA (AUC) = 0.9495\n"
     ]
    }
   ],
   "source": [
    "print('SGD (AUC) = {:.4f}'.format(roc_auc_score(y_train_more50K, sgd_pred_cv)))\n",
    "print('LR  (AUC) = {:.4f}'.format(roc_auc_score(y_train_more50K, lr_pred_cv)))\n",
    "print('LDA (AUC) = {:.4f}'.format(roc_auc_score(y_train_more50K, lda_pred_cv)))\n",
    "print('ADA (AUC) = {:.4f}'.format(roc_auc_score(y_train_more50K, ada_pred_cv)))"
   ]
  },
  {
   "cell_type": "markdown",
   "metadata": {},
   "source": [
    "## Conclusion"
   ]
  },
  {
   "cell_type": "markdown",
   "metadata": {},
   "source": [
    "AdaBoostClassifier performs the **best** among the 4 models."
   ]
  },
  {
   "cell_type": "markdown",
   "metadata": {},
   "source": [
    "# Fine Tuning"
   ]
  },
  {
   "cell_type": "markdown",
   "metadata": {},
   "source": [
    "## Experimenting with Different Hyperparameters"
   ]
  },
  {
   "cell_type": "markdown",
   "metadata": {},
   "source": [
    "As mentioned during the testing phase, 4 models have been chosen in this assignment. We shall now find the optimal hyperparameters for each model using **GridSearchCV**."
   ]
  },
  {
   "cell_type": "markdown",
   "metadata": {},
   "source": [
    "## GridSearchCV"
   ]
  },
  {
   "cell_type": "code",
   "execution_count": 45,
   "metadata": {},
   "outputs": [],
   "source": [
    "# This function will help us in doing GridSearchCV\n",
    "def performGridSearch(params, model, X_train, y_train, runs = 3):\n",
    "    grid_search = GridSearchCV(model, params, cv = runs, scoring = 'roc_auc')\n",
    "    print('Performing grid search...', end = '')\n",
    "    grid_search.fit(X_train, y_train)\n",
    "    print('Done')\n",
    "    print('Best hyperparameters:', grid_search.best_params_)\n",
    "    print('Score of best model =', grid_search.best_score_)\n",
    "    return grid_search.best_estimator_"
   ]
  },
  {
   "cell_type": "markdown",
   "metadata": {},
   "source": [
    "### SGD"
   ]
  },
  {
   "cell_type": "markdown",
   "metadata": {},
   "source": [
    "The following hyperparameters will be considered:\n",
    "1. loss\n",
    "2. alpha \n",
    "3. penalty"
   ]
  },
  {
   "cell_type": "code",
   "execution_count": 46,
   "metadata": {},
   "outputs": [
    {
     "name": "stdout",
     "output_type": "stream",
     "text": [
      "Performing grid search...Done\n",
      "Best hyperparameters: {'alpha': 0.001, 'loss': 'log', 'penalty': 'none'}\n",
      "Score of best model = 0.9374975030092833\n"
     ]
    },
    {
     "data": {
      "text/plain": [
       "Text(0.5, 1.0, 'ROC Curve for SGD')"
      ]
     },
     "execution_count": 46,
     "metadata": {},
     "output_type": "execute_result"
    },
    {
     "data": {
      "image/png": "[encoded data removed]",
      "text/plain": [
       "<Figure size 432x288 with 1 Axes>"
      ]
     },
     "metadata": {
      "needs_background": "light"
     },
     "output_type": "display_data"
    }
   ],
   "source": [
    "sgd_clf = SGDClassifier(random_state = 42, max_iter = 1000, tol = None)\n",
    "\n",
    "params = {\n",
    "    \"loss\" : [\"hinge\", \"log\", \"squared_hinge\", \"modified_huber\"],\n",
    "    \"alpha\" : [0.001, 0.01, 0.1],\n",
    "    \"penalty\" : [\"l2\", \"l1\", \"none\"],\n",
    "}\n",
    "\n",
    "sgd_clf_opti = performGridSearch(params, sgd_clf, X_train_complete, y_train_more50K)\n",
    "\n",
    "plot_roc_curve(sgd_clf_opti, X_train_complete, y_train_more50K).ax_.set_title('ROC Curve for SGD')"
   ]
  },
  {
   "cell_type": "markdown",
   "metadata": {},
   "source": [
    "Best hyperparamters: `{'alpha': 0.001, 'loss': 'log', 'penalty': 'none'}`"
   ]
  },
  {
   "cell_type": "markdown",
   "metadata": {},
   "source": [
    "### LR"
   ]
  },
  {
   "cell_type": "markdown",
   "metadata": {},
   "source": [
    "The following hyperparameters will be considered:\n",
    "1. C"
   ]
  },
  {
   "cell_type": "code",
   "execution_count": 47,
   "metadata": {},
   "outputs": [
    {
     "name": "stdout",
     "output_type": "stream",
     "text": [
      "Performing grid search...Done\n",
      "Best hyperparameters: {'C': 0.615848211066026}\n",
      "Score of best model = 0.9378110410242574\n"
     ]
    },
    {
     "data": {
      "text/plain": [
       "Text(0.5, 1.0, 'ROC Curve for LR')"
      ]
     },
     "execution_count": 47,
     "metadata": {},
     "output_type": "execute_result"
    },
    {
     "data": {
      "image/png": "[encoded data removed]",
      "text/plain": [
       "<Figure size 432x288 with 1 Axes>"
      ]
     },
     "metadata": {
      "needs_background": "light"
     },
     "output_type": "display_data"
    }
   ],
   "source": [
    "lr_clf = LogisticRegression(random_state = 42, max_iter = 5000)\n",
    "\n",
    "params = {'C' : np.logspace(-4, 4, 20)}\n",
    "\n",
    "lr_clf_opti = performGridSearch(params, lr_clf, X_train_complete, y_train_more50K)\n",
    "\n",
    "plot_roc_curve(lr_clf_opti, X_train_complete, y_train_more50K).ax_.set_title('ROC Curve for LR')"
   ]
  },
  {
   "cell_type": "markdown",
   "metadata": {},
   "source": [
    "Best hyperparameters: `{'C': 0.615848211066026}`"
   ]
  },
  {
   "cell_type": "markdown",
   "metadata": {},
   "source": [
    "### LDA"
   ]
  },
  {
   "cell_type": "markdown",
   "metadata": {},
   "source": [
    "The following hyperparameters will be considered:\n",
    "1. shrinkage"
   ]
  },
  {
   "cell_type": "code",
   "execution_count": 48,
   "metadata": {},
   "outputs": [
    {
     "name": "stdout",
     "output_type": "stream",
     "text": [
      "Performing grid search...Done\n",
      "Best hyperparameters: {'shrinkage': 0.01}\n",
      "Score of best model = 0.9271075880398566\n"
     ]
    },
    {
     "data": {
      "text/plain": [
       "Text(0.5, 1.0, 'ROC Curve for LDA')"
      ]
     },
     "execution_count": 48,
     "metadata": {},
     "output_type": "execute_result"
    },
    {
     "data": {
      "image/png": "[encoded data removed]",
      "text/plain": [
       "<Figure size 432x288 with 1 Axes>"
      ]
     },
     "metadata": {
      "needs_background": "light"
     },
     "output_type": "display_data"
    }
   ],
   "source": [
    "lda_clf = LinearDiscriminantAnalysis(solver = 'eigen')\n",
    "\n",
    "params = {'shrinkage' : [0.0001, 0.001, 0.01, 0.1,]}\n",
    "\n",
    "lda_clf_opti = performGridSearch(params, lda_clf, X_train_complete, y_train_more50K)\n",
    "\n",
    "plot_roc_curve(lda_clf_opti, X_train_complete, y_train_more50K).ax_.set_title('ROC Curve for LDA')"
   ]
  },
  {
   "cell_type": "markdown",
   "metadata": {},
   "source": [
    "Best hyperparameters: `{'shrinkage': 0.01}`"
   ]
  },
  {
   "cell_type": "markdown",
   "metadata": {},
   "source": [
    "### ADA"
   ]
  },
  {
   "cell_type": "markdown",
   "metadata": {},
   "source": [
    "The following hyperparameters will be considered:\n",
    "1. n_estimators\n",
    "2. learning_rate"
   ]
  },
  {
   "cell_type": "code",
   "execution_count": 52,
   "metadata": {},
   "outputs": [
    {
     "name": "stdout",
     "output_type": "stream",
     "text": [
      "Performing grid search...Done\n",
      "Best hyperparameters: {'learning_rate': 0.1, 'n_estimators': 2000}\n",
      "Score of best model = 0.9540115643667854\n"
     ]
    },
    {
     "data": {
      "text/plain": [
       "Text(0.5, 1.0, 'ROC Curve for ADA')"
      ]
     },
     "execution_count": 52,
     "metadata": {},
     "output_type": "execute_result"
    },
    {
     "data": {
      "image/png": "[encoded data removed]",
      "text/plain": [
       "<Figure size 432x288 with 1 Axes>"
      ]
     },
     "metadata": {
      "needs_background": "light"
     },
     "output_type": "display_data"
    }
   ],
   "source": [
    "ada_clf = AdaBoostClassifier()\n",
    "\n",
    "params = {'n_estimators':[500,1000,2000],\n",
    "          'learning_rate':[.001,0.01,.1]}\n",
    "\n",
    "ada_clf_opti = performGridSearch(params, ada_clf, X_train_complete, y_train_more50K)\n",
    "\n",
    "plot_roc_curve(ada_clf_opti, X_train_complete, y_train_more50K).ax_.set_title('ROC Curve for ADA')"
   ]
  },
  {
   "cell_type": "markdown",
   "metadata": {},
   "source": [
    "Best hyperparameters: `{'learning_rate': 0.1, 'n_estimators': 2000}`"
   ]
  },
  {
   "cell_type": "markdown",
   "metadata": {},
   "source": [
    "# Testing"
   ]
  },
  {
   "cell_type": "markdown",
   "metadata": {},
   "source": [
    "## Preparing Test Data"
   ]
  },
  {
   "cell_type": "markdown",
   "metadata": {},
   "source": [
    "The test data was prepared the same way the training data was prepared.\n",
    "\n",
    "The **same** Scaler and Encoder was used."
   ]
  },
  {
   "cell_type": "code",
   "execution_count": 53,
   "metadata": {},
   "outputs": [],
   "source": [
    "X_test_num = X_test.drop(cat_col, axis = 1)\n",
    "X_test_cat = X_test[cat_col]\n",
    "\n",
    "X_test_num_tr = scaler.transform(X_test_num)\n",
    "X_test_cat_lb = encoder.transform(X_test_cat)\n",
    "\n",
    "X_test_complete = np.hstack([X_test_num_tr, X_test_cat_lb])\n",
    "\n",
    "y_test_more50K = (y_test == '>50K')"
   ]
  },
  {
   "cell_type": "markdown",
   "metadata": {},
   "source": [
    "## Prediction on unseen data"
   ]
  },
  {
   "cell_type": "markdown",
   "metadata": {},
   "source": [
    "### SGD"
   ]
  },
  {
   "cell_type": "code",
   "execution_count": 54,
   "metadata": {},
   "outputs": [
    {
     "name": "stdout",
     "output_type": "stream",
     "text": [
      "Test precision = 0.8367\n",
      "Test recall    = 0.9089\n",
      "Test f1 score  = 0.8713\n"
     ]
    }
   ],
   "source": [
    "sgd_clf_opti = SGDClassifier(random_state = 42, max_iter = 5000, tol = None, alpha = 0.001, loss = 'log', penalty = 'none')\n",
    "sgd_clf_opti.fit(X_train_complete, y_train_more50K)\n",
    "\n",
    "sgd_pred_test = sgd_clf_opti.predict(X_test_complete)\n",
    "\n",
    "print('Test precision = {:.4f}'.format(precision_score(y_test_more50K, sgd_pred_test)))\n",
    "print('Test recall    = {:.4f}'.format(recall_score(y_test_more50K, sgd_pred_test)))\n",
    "print('Test f1 score  = {:.4f}'.format(f1_score(y_test_more50K, sgd_pred_test)))"
   ]
  },
  {
   "cell_type": "markdown",
   "metadata": {},
   "source": [
    "### LR"
   ]
  },
  {
   "cell_type": "code",
   "execution_count": 55,
   "metadata": {},
   "outputs": [
    {
     "name": "stdout",
     "output_type": "stream",
     "text": [
      "Test precision = 0.8367\n",
      "Test recall    = 0.9086\n",
      "Test f1 score  = 0.8712\n"
     ]
    }
   ],
   "source": [
    "lr_clf_opti = LogisticRegression(random_state = 42, max_iter = 5000, C = 0.615848211066026)\n",
    "lr_clf_opti.fit(X_train_complete, y_train_more50K)\n",
    "\n",
    "lr_pred_test = lr_clf_opti.predict(X_test_complete)\n",
    "\n",
    "print('Test precision = {:.4f}'.format(precision_score(y_test_more50K, lr_pred_test)))\n",
    "print('Test recall    = {:.4f}'.format(recall_score(y_test_more50K, lr_pred_test)))\n",
    "print('Test f1 score  = {:.4f}'.format(f1_score(y_test_more50K, lr_pred_test)))"
   ]
  },
  {
   "cell_type": "markdown",
   "metadata": {},
   "source": [
    "### LDA"
   ]
  },
  {
   "cell_type": "code",
   "execution_count": 56,
   "metadata": {},
   "outputs": [
    {
     "name": "stdout",
     "output_type": "stream",
     "text": [
      "Test precision = 0.8063\n",
      "Test recall    = 0.9199\n",
      "Test f1 score  = 0.8594\n"
     ]
    }
   ],
   "source": [
    "lda_clf_opti = LinearDiscriminantAnalysis(shrinkage = 0.01, solver = 'eigen')\n",
    "lda_clf_opti.fit(X_train_complete, y_train_more50K)\n",
    "\n",
    "lda_pred_test = lda_clf_opti.predict(X_test_complete)\n",
    "\n",
    "print('Test precision = {:.4f}'.format(precision_score(y_test_more50K, lda_pred_test)))\n",
    "print('Test recall    = {:.4f}'.format(recall_score(y_test_more50K, lda_pred_test)))\n",
    "print('Test f1 score  = {:.4f}'.format(f1_score(y_test_more50K, lda_pred_test)))"
   ]
  },
  {
   "cell_type": "markdown",
   "metadata": {},
   "source": [
    "### ADA"
   ]
  },
  {
   "cell_type": "code",
   "execution_count": 57,
   "metadata": {},
   "outputs": [
    {
     "name": "stdout",
     "output_type": "stream",
     "text": [
      "Test precision = 0.8607\n",
      "Test recall    = 0.9109\n",
      "Test f1 score  = 0.8851\n"
     ]
    }
   ],
   "source": [
    "ada_clf_opti = AdaBoostClassifier(learning_rate = 0.1, n_estimators = 2000)\n",
    "ada_clf_opti.fit(X_train_complete, y_train_more50K)\n",
    "\n",
    "ada_pred_test = ada_clf_opti.predict(X_test_complete)\n",
    "\n",
    "print('Test precision = {:.4f}'.format(precision_score(y_test_more50K, ada_pred_test)))\n",
    "print('Test recall    = {:.4f}'.format(recall_score(y_test_more50K, ada_pred_test)))\n",
    "print('Test f1 score  = {:.4f}'.format(f1_score(y_test_more50K, ada_pred_test)))"
   ]
  },
  {
   "cell_type": "markdown",
   "metadata": {},
   "source": [
    "# Conlusion"
   ]
  },
  {
   "cell_type": "markdown",
   "metadata": {},
   "source": [
    "The 4 models that we have chosen in this assignment fits very well to the data. The f1 score for all 4 models on the test set is quite high. No serious underfitting / overfitting could be detected. "
   ]
  },
  {
   "cell_type": "code",
   "execution_count": null,
   "metadata": {},
   "outputs": [],
   "source": []
  }
 ],
 "metadata": {
  "kernelspec": {
   "display_name": "Python 3",
   "language": "python",
   "name": "python3"
  },
  "language_info": {
   "codemirror_mode": {
    "name": "ipython",
    "version": 3
   },
   "file_extension": ".py",
   "mimetype": "text/x-python",
   "name": "python",
   "nbconvert_exporter": "python",
   "pygments_lexer": "ipython3",
   "version": "3.7.7"
  },
  "toc": {
   "base_numbering": 1,
   "nav_menu": {},
   "number_sections": true,
   "sideBar": true,
   "skip_h1_title": false,
   "title_cell": "Table of Contents",
   "title_sidebar": "Contents",
   "toc_cell": true,
   "toc_position": {
    "height": "calc(100% - 180px)",
    "left": "10px",
    "top": "150px",
    "width": "273.133px"
   },
   "toc_section_display": true,
   "toc_window_display": false
  }
 },
 "nbformat": 4,
 "nbformat_minor": 4
}
